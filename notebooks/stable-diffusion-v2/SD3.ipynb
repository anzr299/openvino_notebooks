{
 "cells": [
  {
   "cell_type": "markdown",
   "metadata": {},
   "source": [
    "# Stable Diffusion v2 Demo with Torch Compile"
   ]
  },
  {
   "cell_type": "markdown",
   "metadata": {},
   "source": [
    "## Stable Diffusion v2 for Text-to-Image Generation\n",
    "\n",
    "To start, let's look on Text-to-Image process for Stable Diffusion v2. We will use [Stable Diffusion v2-1](https://huggingface.co/stabilityai/stable-diffusion-2-1) model for these purposes. The main difference from Stable Diffusion v2 and Stable Diffusion v2.1 is usage of more data, more training, and less restrictive filtering of the dataset, that gives promising results for selecting wide range of input text prompts. More details about model can be found in [Stability AI blog post](https://stability.ai/blog/stablediffusion2-1-release7-dec-2022) and original model [repository](https://github.com/Stability-AI/stablediffusion).\n",
    "\n",
    "### Stable Diffusion in Diffusers library\n",
    "To work with Stable Diffusion v2, we will use Hugging Face [Diffusers](https://github.com/huggingface/diffusers) library. To experiment with Stable Diffusion models, Diffusers exposes the [`StableDiffusionPipeline`](https://huggingface.co/docs/diffusers/using-diffusers/conditional_image_generation) similar to the [other Diffusers pipelines](https://huggingface.co/docs/diffusers/api/pipelines/overview).  The code below demonstrates how to create `StableDiffusionPipeline` using `stable-diffusion-2-1`:"
   ]
  },
  {
   "cell_type": "code",
   "execution_count": null,
   "metadata": {},
   "outputs": [],
   "source": [
    "# %pip install -q \"gradio>=4.19\" \"torch>=2.1\"  \"transformers\" \"nncf>=2.12.0\" \"datasets>=2.14.6\" \"opencv-python\" \"pillow\" \"peft>=0.7.0\" --extra-index-url https://download.pytorch.org/whl/cpu\n",
    "# %pip install -qU \"openvino>=2024.3.0\"\n",
    "%pip install git+https://github.com/anzr299/nncf.git@174fb328dd841c61f231361f5d80e89c103f264e"
   ]
  },
  {
   "cell_type": "code",
   "execution_count": 1,
   "metadata": {},
   "outputs": [
    {
     "name": "stdout",
     "output_type": "stream",
     "text": [
      "INFO:nncf:NNCF initialized successfully. Supported frameworks detected: torch, onnx, openvino\n",
      "WARNING:nncf:NNCF provides best results with torch==2.4.*, while current torch version is 2.3.1+cpu. If you encounter issues, consider switching to torch==2.4.*\n"
     ]
    }
   ],
   "source": [
    "from torch._export import capture_pre_autograd_graph\n",
    "from nncf.torch.dynamic_graph.patch_pytorch import disable_patching\n",
    "import numpy as np\n",
    "import gc"
   ]
  },
  {
   "cell_type": "code",
   "execution_count": 2,
   "metadata": {},
   "outputs": [
    {
     "name": "stderr",
     "output_type": "stream",
     "text": [
      "/home/user/Downloads/openvino_notebooks/.venv/lib/python3.10/site-packages/diffusers/models/transformers/transformer_2d.py:34: FutureWarning: `Transformer2DModelOutput` is deprecated and will be removed in version 1.0.0. Importing `Transformer2DModelOutput` from `diffusers.models.transformer_2d` is deprecated and this will be removed in a future version. Please use `from diffusers.models.modeling_outputs import Transformer2DModelOutput`, instead.\n",
      "  deprecate(\"Transformer2DModelOutput\", \"1.0.0\", deprecation_message)\n"
     ]
    },
    {
     "data": {
      "application/vnd.jupyter.widget-view+json": {
       "model_id": "cb6a6840cac544219cd852a76027a72a",
       "version_major": 2,
       "version_minor": 0
      },
      "text/plain": [
       "Loading pipeline components...:   0%|          | 0/7 [00:00<?, ?it/s]"
      ]
     },
     "metadata": {},
     "output_type": "display_data"
    },
    {
     "data": {
      "text/plain": [
       "StableDiffusion3Pipeline {\n",
       "  \"_class_name\": \"StableDiffusion3Pipeline\",\n",
       "  \"_diffusers_version\": \"0.29.0.dev0\",\n",
       "  \"_name_or_path\": \"stabilityai/stable-diffusion-3-medium-diffusers\",\n",
       "  \"scheduler\": [\n",
       "    \"diffusers\",\n",
       "    \"FlowMatchEulerDiscreteScheduler\"\n",
       "  ],\n",
       "  \"text_encoder\": [\n",
       "    \"transformers\",\n",
       "    \"CLIPTextModelWithProjection\"\n",
       "  ],\n",
       "  \"text_encoder_2\": [\n",
       "    \"transformers\",\n",
       "    \"CLIPTextModelWithProjection\"\n",
       "  ],\n",
       "  \"text_encoder_3\": [\n",
       "    null,\n",
       "    null\n",
       "  ],\n",
       "  \"tokenizer\": [\n",
       "    \"transformers\",\n",
       "    \"CLIPTokenizer\"\n",
       "  ],\n",
       "  \"tokenizer_2\": [\n",
       "    \"transformers\",\n",
       "    \"CLIPTokenizer\"\n",
       "  ],\n",
       "  \"tokenizer_3\": [\n",
       "    null,\n",
       "    null\n",
       "  ],\n",
       "  \"transformer\": [\n",
       "    \"diffusers\",\n",
       "    \"SD3Transformer2DModel\"\n",
       "  ],\n",
       "  \"vae\": [\n",
       "    \"diffusers\",\n",
       "    \"AutoencoderKL\"\n",
       "  ]\n",
       "}"
      ]
     },
     "execution_count": 2,
     "metadata": {},
     "output_type": "execute_result"
    }
   ],
   "source": [
    "from diffusers import StableDiffusion3Pipeline\n",
    "import torch\n",
    "import nncf\n",
    "import random\n",
    "torch.manual_seed(141)\n",
    "random.seed(141)\n",
    "np.random.seed(141)\n",
    "generator = torch.Generator(device=\"cpu\").manual_seed(141)\n",
    "pipe = StableDiffusion3Pipeline.from_pretrained(\"stabilityai/stable-diffusion-3-medium-diffusers\", text_encoder_3=None, tokenizer_3=None)\n",
    "pipe.to(\"cpu\")"
   ]
  },
  {
   "cell_type": "markdown",
   "metadata": {},
   "source": [
    "### FP Inference"
   ]
  },
  {
   "cell_type": "code",
   "execution_count": 3,
   "metadata": {},
   "outputs": [],
   "source": [
    "torch.manual_seed(42)\n",
    "random.seed(42)\n",
    "np.random.seed(42)\n",
    "latents = np.random.randn(1, 16, 128, 128).astype(np.float32)\n",
    "latents = torch.from_numpy(latents).to(\"cpu\")\n",
    "generator = torch.Generator(device=\"cpu\").manual_seed(42)\n",
    "prompt = \"valley in the Alps at sunset, epic vista, beautiful landscape, 4k, 8k\"\n",
    "# prompt = 'A raccoon trapped inside a glass jar full of colorful candies, the background is steamy with vivid colors'\n",
    "# with torch.no_grad():\n",
    "#     image = pipe(prompt=prompt, negative_prompt='', num_inference_steps=28, generator=generator, guidance_scale=5).images[0]\n",
    "# image.show()"
   ]
  },
  {
   "cell_type": "markdown",
   "metadata": {},
   "source": [
    "### Convert Models to Torch Fx Graph"
   ]
  },
  {
   "cell_type": "code",
   "execution_count": 4,
   "metadata": {},
   "outputs": [
    {
     "data": {
      "text/plain": [
       "90955"
      ]
     },
     "execution_count": 4,
     "metadata": {},
     "output_type": "execute_result"
    }
   ],
   "source": [
    "text_encoder_input = torch.ones((1, 77), dtype=torch.long)\n",
    "text_encoder_kwargs = {}\n",
    "text_encoder_kwargs['output_hidden_states'] = True\n",
    "\n",
    "vae_encoder_input = torch.ones((1, 3, 128, 128))\n",
    "vae_decoder_input = torch.ones((1, 16, 128, 128))\n",
    "\n",
    "unet_kwargs = {}\n",
    "unet_kwargs[\"hidden_states\"] = torch.ones((2, 16, 128, 128))\n",
    "unet_kwargs[\"timestep\"] = torch.from_numpy(np.array([1,2], dtype=np.float32))\n",
    "unet_kwargs[\"encoder_hidden_states\"] = torch.ones((2, 154, 4096))\n",
    "unet_kwargs[\"pooled_projections\"] = torch.ones((2, 2048))\n",
    "unet_kwargs[\"return_dict\"] = False\n",
    "\n",
    "\n",
    "with torch.no_grad():\n",
    "    with disable_patching():\n",
    "        text_encoder = capture_pre_autograd_graph(pipe.text_encoder.eval(), args=(text_encoder_input,), kwargs=(text_encoder_kwargs))\n",
    "        text_encoder_2 = capture_pre_autograd_graph(pipe.text_encoder_2.eval(), args=(text_encoder_input,), kwargs=(text_encoder_kwargs))\n",
    "        vae_encoder = capture_pre_autograd_graph(pipe.vae.encoder.eval(), args=(vae_encoder_input,))\n",
    "        vae_decoder = capture_pre_autograd_graph(pipe.vae.decoder.eval(), args=(vae_decoder_input,))\n",
    "        transformer = capture_pre_autograd_graph(pipe.transformer.eval(), args=(), kwargs=(unet_kwargs))\n",
    "del unet_kwargs\n",
    "del vae_encoder_input\n",
    "del vae_decoder_input\n",
    "del text_encoder_input\n",
    "del text_encoder_kwargs\n",
    "gc.collect()"
   ]
  },
  {
   "cell_type": "markdown",
   "metadata": {},
   "source": [
    "### Collect Calibration Dataset"
   ]
  },
  {
   "cell_type": "code",
   "execution_count": 5,
   "metadata": {},
   "outputs": [],
   "source": [
    "import datasets\n",
    "import numpy as np\n",
    "from tqdm.notebook import tqdm\n",
    "from typing import Any, Dict, List\n",
    "import torch\n",
    "import pickle\n",
    "from pathlib import Path\n",
    "\n",
    "def disable_progress_bar(pipeline, disable=True):\n",
    "    if not hasattr(pipeline, \"_progress_bar_config\"):\n",
    "        pipeline._progress_bar_config = {'disable': disable}\n",
    "    else:\n",
    "        pipeline._progress_bar_config['disable'] = disable\n",
    "\n",
    "\n",
    "class UNetWrapper(torch.nn.Module):\n",
    "    def __init__(self, unet):\n",
    "        super().__init__()\n",
    "        self.unet = unet\n",
    "        self.captured_args = []\n",
    "\n",
    "    def forward(self, *args, **kwargs):\n",
    "        if np.random.rand() <= 0.7:\n",
    "            self.captured_args.append((*args, *tuple(kwargs.values())))\n",
    "        return self.unet(*args, **kwargs)\n",
    "\n",
    "CALIBRATION_DATASET_PATH = Path('test_sd3')\n",
    "\n",
    "def collect_calibration_data(ov_pipe, calibration_dataset_size: int, num_inference_steps: int) -> List[Dict]:\n",
    "    if CALIBRATION_DATASET_PATH.exists():\n",
    "        original_unet = ov_pipe.transformer\n",
    "        calibration_data = []\n",
    "        disable_progress_bar(ov_pipe)\n",
    "        \n",
    "        dataset = datasets.load_dataset(\"google-research-datasets/conceptual_captions\", split=\"train\", trust_remote_code=True).shuffle(seed=42)\n",
    "\n",
    "        wrapped_unet = UNetWrapper(ov_pipe.transformer)\n",
    "        pipe.transformer = wrapped_unet\n",
    "        # Run inference for data collection\n",
    "        pbar = tqdm(total=calibration_dataset_size)\n",
    "        for i, batch in enumerate(dataset):\n",
    "            prompt = batch[\"caption\"]\n",
    "            print(prompt)\n",
    "            if len(prompt) > ov_pipe.tokenizer.model_max_length:\n",
    "                continue\n",
    "            # Run the pipeline\n",
    "            ov_pipe(prompt, num_inference_steps=num_inference_steps)\n",
    "            calibration_data.extend(wrapped_unet.captured_args)\n",
    "            wrapped_unet.captured_args = []\n",
    "            pbar.update(len(calibration_data) - pbar.n)\n",
    "            if pbar.n >= calibration_dataset_size:\n",
    "                break\n",
    "\n",
    "        disable_progress_bar(ov_pipe, disable=False)\n",
    "        ov_pipe.transformer = original_unet\n",
    "\n",
    "        with open(\"test_sd3\", \"rb\") as fp:\n",
    "            pickle.dump(unet_calibration_data, fp)\n",
    "\n",
    "        return calibration_data\n",
    "    else:\n",
    "        with open(\"test_sd3\", \"rb\") as fp:\n",
    "            unet_calibration_data = pickle.load(fp)\n",
    "        return unet_calibration_data"
   ]
  },
  {
   "cell_type": "code",
   "execution_count": 22,
   "metadata": {},
   "outputs": [
    {
     "name": "stdout",
     "output_type": "stream",
     "text": [
      "INFO:nncf:Statistics of the bitwidth distribution:\n",
      "┍━━━━━━━━━━━━━━━━┯━━━━━━━━━━━━━━━━━━━━━━━━━━━━━┯━━━━━━━━━━━━━━━━━━━━━━━━━━━━━━━━━━━━━━━━┑\n",
      "│   Num bits (N) │ % all parameters (layers)   │ % ratio-defining parameters (layers)   │\n",
      "┝━━━━━━━━━━━━━━━━┿━━━━━━━━━━━━━━━━━━━━━━━━━━━━━┿━━━━━━━━━━━━━━━━━━━━━━━━━━━━━━━━━━━━━━━━┥\n",
      "│              8 │ 100% (75 / 75)              │ 100% (75 / 75)                         │\n",
      "┕━━━━━━━━━━━━━━━━┷━━━━━━━━━━━━━━━━━━━━━━━━━━━━━┷━━━━━━━━━━━━━━━━━━━━━━━━━━━━━━━━━━━━━━━━┙\n"
     ]
    },
    {
     "data": {
      "application/vnd.jupyter.widget-view+json": {
       "model_id": "f1e23e68ef7646bd8afca0f9cf0cacf9",
       "version_major": 2,
       "version_minor": 0
      },
      "text/plain": [
       "Output()"
      ]
     },
     "metadata": {},
     "output_type": "display_data"
    },
    {
     "data": {
      "text/html": [
       "<pre style=\"white-space:pre;overflow-x:auto;line-height:normal;font-family:Menlo,'DejaVu Sans Mono',consolas,'Courier New',monospace\"></pre>\n"
      ],
      "text/plain": []
     },
     "metadata": {},
     "output_type": "display_data"
    },
    {
     "data": {
      "text/html": [
       "<pre style=\"white-space:pre;overflow-x:auto;line-height:normal;font-family:Menlo,'DejaVu Sans Mono',consolas,'Courier New',monospace\">\n",
       "</pre>\n"
      ],
      "text/plain": [
       "\n"
      ]
     },
     "metadata": {},
     "output_type": "display_data"
    },
    {
     "name": "stdout",
     "output_type": "stream",
     "text": [
      "INFO:nncf:Statistics of the bitwidth distribution:\n",
      "┍━━━━━━━━━━━━━━━━┯━━━━━━━━━━━━━━━━━━━━━━━━━━━━━┯━━━━━━━━━━━━━━━━━━━━━━━━━━━━━━━━━━━━━━━━┑\n",
      "│   Num bits (N) │ % all parameters (layers)   │ % ratio-defining parameters (layers)   │\n",
      "┝━━━━━━━━━━━━━━━━┿━━━━━━━━━━━━━━━━━━━━━━━━━━━━━┿━━━━━━━━━━━━━━━━━━━━━━━━━━━━━━━━━━━━━━━━┥\n",
      "│              8 │ 100% (195 / 195)            │ 100% (195 / 195)                       │\n",
      "┕━━━━━━━━━━━━━━━━┷━━━━━━━━━━━━━━━━━━━━━━━━━━━━━┷━━━━━━━━━━━━━━━━━━━━━━━━━━━━━━━━━━━━━━━━┙\n"
     ]
    },
    {
     "data": {
      "application/vnd.jupyter.widget-view+json": {
       "model_id": "ae5464d0ff43457ca896248d21f08281",
       "version_major": 2,
       "version_minor": 0
      },
      "text/plain": [
       "Output()"
      ]
     },
     "metadata": {},
     "output_type": "display_data"
    },
    {
     "data": {
      "text/html": [
       "<pre style=\"white-space:pre;overflow-x:auto;line-height:normal;font-family:Menlo,'DejaVu Sans Mono',consolas,'Courier New',monospace\"></pre>\n"
      ],
      "text/plain": []
     },
     "metadata": {},
     "output_type": "display_data"
    },
    {
     "data": {
      "text/html": [
       "<pre style=\"white-space:pre;overflow-x:auto;line-height:normal;font-family:Menlo,'DejaVu Sans Mono',consolas,'Courier New',monospace\">\n",
       "</pre>\n"
      ],
      "text/plain": [
       "\n"
      ]
     },
     "metadata": {},
     "output_type": "display_data"
    },
    {
     "name": "stdout",
     "output_type": "stream",
     "text": [
      "INFO:nncf:Statistics of the bitwidth distribution:\n",
      "┍━━━━━━━━━━━━━━━━┯━━━━━━━━━━━━━━━━━━━━━━━━━━━━━┯━━━━━━━━━━━━━━━━━━━━━━━━━━━━━━━━━━━━━━━━┑\n",
      "│   Num bits (N) │ % all parameters (layers)   │ % ratio-defining parameters (layers)   │\n",
      "┝━━━━━━━━━━━━━━━━┿━━━━━━━━━━━━━━━━━━━━━━━━━━━━━┿━━━━━━━━━━━━━━━━━━━━━━━━━━━━━━━━━━━━━━━━┥\n",
      "│              8 │ 100% (31 / 31)              │ 100% (31 / 31)                         │\n",
      "┕━━━━━━━━━━━━━━━━┷━━━━━━━━━━━━━━━━━━━━━━━━━━━━━┷━━━━━━━━━━━━━━━━━━━━━━━━━━━━━━━━━━━━━━━━┙\n"
     ]
    },
    {
     "data": {
      "application/vnd.jupyter.widget-view+json": {
       "model_id": "59083085794249d196c3623c86401d80",
       "version_major": 2,
       "version_minor": 0
      },
      "text/plain": [
       "Output()"
      ]
     },
     "metadata": {},
     "output_type": "display_data"
    },
    {
     "data": {
      "text/html": [
       "<pre style=\"white-space:pre;overflow-x:auto;line-height:normal;font-family:Menlo,'DejaVu Sans Mono',consolas,'Courier New',monospace\"></pre>\n"
      ],
      "text/plain": []
     },
     "metadata": {},
     "output_type": "display_data"
    },
    {
     "data": {
      "text/html": [
       "<pre style=\"white-space:pre;overflow-x:auto;line-height:normal;font-family:Menlo,'DejaVu Sans Mono',consolas,'Courier New',monospace\">\n",
       "</pre>\n"
      ],
      "text/plain": [
       "\n"
      ]
     },
     "metadata": {},
     "output_type": "display_data"
    },
    {
     "name": "stdout",
     "output_type": "stream",
     "text": [
      "INFO:nncf:Statistics of the bitwidth distribution:\n",
      "┍━━━━━━━━━━━━━━━━┯━━━━━━━━━━━━━━━━━━━━━━━━━━━━━┯━━━━━━━━━━━━━━━━━━━━━━━━━━━━━━━━━━━━━━━━┑\n",
      "│   Num bits (N) │ % all parameters (layers)   │ % ratio-defining parameters (layers)   │\n",
      "┝━━━━━━━━━━━━━━━━┿━━━━━━━━━━━━━━━━━━━━━━━━━━━━━┿━━━━━━━━━━━━━━━━━━━━━━━━━━━━━━━━━━━━━━━━┥\n",
      "│              8 │ 100% (39 / 39)              │ 100% (39 / 39)                         │\n",
      "┕━━━━━━━━━━━━━━━━┷━━━━━━━━━━━━━━━━━━━━━━━━━━━━━┷━━━━━━━━━━━━━━━━━━━━━━━━━━━━━━━━━━━━━━━━┙\n"
     ]
    },
    {
     "data": {
      "application/vnd.jupyter.widget-view+json": {
       "model_id": "4c9a12a0944f483482d76501efd0e679",
       "version_major": 2,
       "version_minor": 0
      },
      "text/plain": [
       "Output()"
      ]
     },
     "metadata": {},
     "output_type": "display_data"
    },
    {
     "data": {
      "text/html": [
       "<pre style=\"white-space:pre;overflow-x:auto;line-height:normal;font-family:Menlo,'DejaVu Sans Mono',consolas,'Courier New',monospace\"></pre>\n"
      ],
      "text/plain": []
     },
     "metadata": {},
     "output_type": "display_data"
    },
    {
     "data": {
      "text/html": [
       "<pre style=\"white-space:pre;overflow-x:auto;line-height:normal;font-family:Menlo,'DejaVu Sans Mono',consolas,'Courier New',monospace\">\n",
       "</pre>\n"
      ],
      "text/plain": [
       "\n"
      ]
     },
     "metadata": {},
     "output_type": "display_data"
    }
   ],
   "source": [
    "with disable_patching():\n",
    "    with torch.no_grad():\n",
    "        text_encoder = nncf.compress_weights(text_encoder)\n",
    "        text_encoder_2 = nncf.compress_weights(text_encoder_2)\n",
    "        vae_encoder = nncf.compress_weights(vae_encoder)\n",
    "        vae_decoder = nncf.compress_weights(vae_decoder)"
   ]
  },
  {
   "cell_type": "code",
   "execution_count": 6,
   "metadata": {},
   "outputs": [
    {
     "data": {
      "application/vnd.jupyter.widget-view+json": {
       "model_id": "84a884d0cbc645edb06ef4a7e47c4131",
       "version_major": 2,
       "version_minor": 0
      },
      "text/plain": [
       "  0%|          | 0/210 [00:00<?, ?it/s]"
      ]
     },
     "metadata": {},
     "output_type": "display_data"
    },
    {
     "name": "stdout",
     "output_type": "stream",
     "text": [
      "a soldier clears the area outside the school .\n",
      "a man is digging in soil and he is putting the soil into a wheelbarrow .\n",
      "young couple in love embraces gently against the blue sky and white clouds\n",
      "person before grooming left side view\n",
      "photo : hikers on the trail\n",
      "actor attends the opening night\n",
      "portrait of a living grasshopper\n",
      "wind turbine on a wheat field in the summer\n",
      "olympic athlete competes during the first day\n",
      "love the low , bare back and full tulle skirt .\n",
      "automotive industry business at show\n"
     ]
    }
   ],
   "source": [
    "calibration_dataset_size = 210\n",
    "unet_calibration_data = collect_calibration_data(pipe,\n",
    "                                                    calibration_dataset_size=calibration_dataset_size,\n",
    "                                                    num_inference_steps=30)"
   ]
  },
  {
   "cell_type": "code",
   "execution_count": 8,
   "metadata": {},
   "outputs": [],
   "source": [
    "with open(\"test_sd3\", \"wb\") as fp:\n",
    "            pickle.dump(unet_calibration_data, fp)"
   ]
  },
  {
   "cell_type": "code",
   "execution_count": 10,
   "metadata": {},
   "outputs": [
    {
     "name": "stdout",
     "output_type": "stream",
     "text": [
      "WARNING:nncf:Experimental Torch FX quantization backend is being used for the given torch.fx.GraphModule model. Torch FX PTQ is an experimental feature, consider using Torch or OpenVino PTQ backends in case of errors or a poor model performance.\n"
     ]
    },
    {
     "data": {
      "application/vnd.jupyter.widget-view+json": {
       "model_id": "23126552042240e9916d1ed08b63863f",
       "version_major": 2,
       "version_minor": 0
      },
      "text/plain": [
       "Output()"
      ]
     },
     "metadata": {},
     "output_type": "display_data"
    },
    {
     "data": {
      "text/html": [
       "<pre style=\"white-space:pre;overflow-x:auto;line-height:normal;font-family:Menlo,'DejaVu Sans Mono',consolas,'Courier New',monospace\"></pre>\n"
      ],
      "text/plain": []
     },
     "metadata": {},
     "output_type": "display_data"
    },
    {
     "data": {
      "text/html": [
       "<pre style=\"white-space:pre;overflow-x:auto;line-height:normal;font-family:Menlo,'DejaVu Sans Mono',consolas,'Courier New',monospace\">\n",
       "</pre>\n"
      ],
      "text/plain": [
       "\n"
      ]
     },
     "metadata": {},
     "output_type": "display_data"
    },
    {
     "data": {
      "application/vnd.jupyter.widget-view+json": {
       "model_id": "9eed43f771f246558d5b41040ffedb43",
       "version_major": 2,
       "version_minor": 0
      },
      "text/plain": [
       "Output()"
      ]
     },
     "metadata": {},
     "output_type": "display_data"
    },
    {
     "data": {
      "text/html": [
       "<pre style=\"white-space:pre;overflow-x:auto;line-height:normal;font-family:Menlo,'DejaVu Sans Mono',consolas,'Courier New',monospace\"></pre>\n"
      ],
      "text/plain": []
     },
     "metadata": {},
     "output_type": "display_data"
    },
    {
     "data": {
      "text/html": [
       "<pre style=\"white-space:pre;overflow-x:auto;line-height:normal;font-family:Menlo,'DejaVu Sans Mono',consolas,'Courier New',monospace\">\n",
       "</pre>\n"
      ],
      "text/plain": [
       "\n"
      ]
     },
     "metadata": {},
     "output_type": "display_data"
    },
    {
     "name": "stdout",
     "output_type": "stream",
     "text": [
      "INFO:nncf:1 ignored nodes were found by names in the NNCFGraph\n",
      "INFO:nncf:Not adding activation input quantizer for operation: 6 conv2d\n",
      "8 add__tensor\n",
      "\n"
     ]
    },
    {
     "data": {
      "application/vnd.jupyter.widget-view+json": {
       "model_id": "acaeafed94a846be892551dd32ce56dd",
       "version_major": 2,
       "version_minor": 0
      },
      "text/plain": [
       "Output()"
      ]
     },
     "metadata": {},
     "output_type": "display_data"
    },
    {
     "data": {
      "text/html": [
       "<pre style=\"white-space:pre;overflow-x:auto;line-height:normal;font-family:Menlo,'DejaVu Sans Mono',consolas,'Courier New',monospace\"></pre>\n"
      ],
      "text/plain": []
     },
     "metadata": {},
     "output_type": "display_data"
    },
    {
     "data": {
      "text/html": [
       "<pre style=\"white-space:pre;overflow-x:auto;line-height:normal;font-family:Menlo,'DejaVu Sans Mono',consolas,'Courier New',monospace\">\n",
       "</pre>\n"
      ],
      "text/plain": [
       "\n"
      ]
     },
     "metadata": {},
     "output_type": "display_data"
    },
    {
     "data": {
      "application/vnd.jupyter.widget-view+json": {
       "model_id": "4d560cec3c604d2cb28fbb9629e3fbba",
       "version_major": 2,
       "version_minor": 0
      },
      "text/plain": [
       "Output()"
      ]
     },
     "metadata": {},
     "output_type": "display_data"
    },
    {
     "data": {
      "text/html": [
       "<pre style=\"white-space:pre;overflow-x:auto;line-height:normal;font-family:Menlo,'DejaVu Sans Mono',consolas,'Courier New',monospace\"></pre>\n"
      ],
      "text/plain": []
     },
     "metadata": {},
     "output_type": "display_data"
    },
    {
     "data": {
      "text/html": [
       "<pre style=\"white-space:pre;overflow-x:auto;line-height:normal;font-family:Menlo,'DejaVu Sans Mono',consolas,'Courier New',monospace\">\n",
       "</pre>\n"
      ],
      "text/plain": [
       "\n"
      ]
     },
     "metadata": {},
     "output_type": "display_data"
    }
   ],
   "source": [
    "import nncf\n",
    "from nncf.quantization.advanced_parameters import AdvancedSmoothQuantParameters\n",
    "from nncf.quantization.range_estimator import RangeEstimatorParametersSet\n",
    "\n",
    "\n",
    "with disable_patching():\n",
    "    with torch.no_grad():\n",
    "        quantized_transformer = nncf.quantize( #2\n",
    "            model=transformer,\n",
    "            calibration_dataset=nncf.Dataset(unet_calibration_data),\n",
    "            subset_size=len(unet_calibration_data),\n",
    "            model_type=nncf.ModelType.TRANSFORMER,\n",
    "            ignored_scope=nncf.IgnoredScope(names=['conv2d']),\n",
    "            advanced_parameters=nncf.AdvancedQuantizationParameters(weights_range_estimator_params=RangeEstimatorParametersSet.MINMAX, activations_range_estimator_params=RangeEstimatorParametersSet.MINMAX)\n",
    "        )"
   ]
  },
  {
   "cell_type": "code",
   "execution_count": 11,
   "metadata": {},
   "outputs": [],
   "source": [
    "from torch.ao.quantization.fx.utils import create_getattr_from_value\n",
    "from copy import copy\n",
    "def update_constant(model: torch.fx.GraphModule, node: torch.fx.Node, value: torch.Tensor, input_port_id: int = 1):\n",
    "    graph = model.graph\n",
    "    with graph.inserting_before(node):\n",
    "        new_constant = create_getattr_from_value(model, graph, node.name + \"_updated_constant\", value)\n",
    "\n",
    "    args = list(node.args)\n",
    "    previous_const = args[input_port_id]\n",
    "    new_constant.meta = copy(previous_const.meta)\n",
    "    new_constant.meta[\"val\"] = value\n",
    "\n",
    "    consumer_nodes = list(previous_const.users.keys())\n",
    "    args[input_port_id] = new_constant\n",
    "    for node in consumer_nodes:\n",
    "        node.replace_input_with(previous_const, new_constant)\n",
    "    graph.erase_node(previous_const)\n",
    "    graph.eliminate_dead_code()"
   ]
  },
  {
   "cell_type": "code",
   "execution_count": 12,
   "metadata": {},
   "outputs": [],
   "source": [
    "import nncf.common\n",
    "import nncf.common.factory\n",
    "import nncf.common.graph\n",
    "import nncf.common.graph.graph\n",
    "from nncf.experimental.torch.fx.transformations import constant_update_transformation_builder, constant_update_fn\n",
    "\n",
    "def create_int8_constant(model):\n",
    "    count = 1\n",
    "    for node in model.graph.nodes:\n",
    "        if node.target == torch.ops.quantized_decomposed.quantize_per_channel.default:\n",
    "            input_tup = []\n",
    "            for i in node.args:\n",
    "                if isinstance(i, torch.fx.Node):\n",
    "                    input_tup.append(getattr(model, i.target))\n",
    "                else:\n",
    "                    input_tup.append(i)\n",
    "            result = node.target(*tuple(input_tup)).type(torch.int8)\n",
    "            count += 1\n",
    "            update_constant(model, node, result, 0)\n",
    "            model = torch.fx.GraphModule(model, model.graph)\n",
    "            # model.graph.eliminate_dead_code()\n",
    "            # model.recompile()\n",
    "    return model"
   ]
  },
  {
   "cell_type": "code",
   "execution_count": 13,
   "metadata": {},
   "outputs": [],
   "source": [
    "from copy import deepcopy\n",
    "comp_model = deepcopy(quantized_transformer)\n",
    "comp_model = create_int8_constant(comp_model)"
   ]
  },
  {
   "cell_type": "code",
   "execution_count": 14,
   "metadata": {},
   "outputs": [
    {
     "name": "stdout",
     "output_type": "stream",
     "text": [
      "[Match(anchor=dequantize_per_channel_default, nodes_map={dequantize_per_channel_default: dequantize_per_channel_default, quantize_per_channel_default: quantize_per_channel_default, weight: quantize_per_channel_default_updated_constant0, scale: linear_scale_0, zero_point: linear_zero_point_0, mid: 0, low: -128, high: 127, dtype: torch.int8}), Match(anchor=dequantize_per_channel_default, nodes_map={dequantize_per_channel_default: dequantize_per_channel_default_1, quantize_per_channel_default: quantize_per_channel_default_1, weight: quantize_per_channel_default_1_updated_constant0, scale: linear_1_scale_0, zero_point: linear_1_zero_point_0, mid: 0, low: -128, high: 127, dtype: torch.int8}), Match(anchor=dequantize_per_channel_default, nodes_map={dequantize_per_channel_default: dequantize_per_channel_default_2, quantize_per_channel_default: quantize_per_channel_default_2, weight: quantize_per_channel_default_2_updated_constant0, scale: linear_2_scale_0, zero_point: linear_2_zero_point_0, mid: 0, low: -128, high: 127, dtype: torch.int8}), Match(anchor=dequantize_per_channel_default, nodes_map={dequantize_per_channel_default: dequantize_per_channel_default_3, quantize_per_channel_default: quantize_per_channel_default_3, weight: quantize_per_channel_default_3_updated_constant0, scale: linear_3_scale_0, zero_point: linear_3_zero_point_0, mid: 0, low: -128, high: 127, dtype: torch.int8}), Match(anchor=dequantize_per_channel_default, nodes_map={dequantize_per_channel_default: dequantize_per_channel_default_4, quantize_per_channel_default: quantize_per_channel_default_4, weight: quantize_per_channel_default_4_updated_constant0, scale: linear_4_scale_0, zero_point: linear_4_zero_point_0, mid: 0, low: -128, high: 127, dtype: torch.int8}), Match(anchor=dequantize_per_channel_default, nodes_map={dequantize_per_channel_default: dequantize_per_channel_default_5, quantize_per_channel_default: quantize_per_channel_default_5, weight: quantize_per_channel_default_5_updated_constant0, scale: linear_5_scale_0, zero_point: linear_5_zero_point_0, mid: 0, low: -128, high: 127, dtype: torch.int8}), Match(anchor=dequantize_per_channel_default, nodes_map={dequantize_per_channel_default: dequantize_per_channel_default_6, quantize_per_channel_default: quantize_per_channel_default_6, weight: quantize_per_channel_default_6_updated_constant0, scale: linear_6_scale_0, zero_point: linear_6_zero_point_0, mid: 0, low: -128, high: 127, dtype: torch.int8}), Match(anchor=dequantize_per_channel_default, nodes_map={dequantize_per_channel_default: dequantize_per_channel_default_7, quantize_per_channel_default: quantize_per_channel_default_7, weight: quantize_per_channel_default_7_updated_constant0, scale: linear_7_scale_0, zero_point: linear_7_zero_point_0, mid: 0, low: -128, high: 127, dtype: torch.int8}), Match(anchor=dequantize_per_channel_default, nodes_map={dequantize_per_channel_default: dequantize_per_channel_default_8, quantize_per_channel_default: quantize_per_channel_default_8, weight: quantize_per_channel_default_8_updated_constant0, scale: linear_8_scale_0, zero_point: linear_8_zero_point_0, mid: 0, low: -128, high: 127, dtype: torch.int8}), Match(anchor=dequantize_per_channel_default, nodes_map={dequantize_per_channel_default: dequantize_per_channel_default_9, quantize_per_channel_default: quantize_per_channel_default_9, weight: quantize_per_channel_default_9_updated_constant0, scale: linear_9_scale_0, zero_point: linear_9_zero_point_0, mid: 0, low: -128, high: 127, dtype: torch.int8}), Match(anchor=dequantize_per_channel_default, nodes_map={dequantize_per_channel_default: dequantize_per_channel_default_10, quantize_per_channel_default: quantize_per_channel_default_10, weight: quantize_per_channel_default_10_updated_constant0, scale: linear_10_scale_0, zero_point: linear_10_zero_point_0, mid: 0, low: -128, high: 127, dtype: torch.int8}), Match(anchor=dequantize_per_channel_default, nodes_map={dequantize_per_channel_default: dequantize_per_channel_default_11, quantize_per_channel_default: quantize_per_channel_default_11, weight: quantize_per_channel_default_11_updated_constant0, scale: linear_11_scale_0, zero_point: linear_11_zero_point_0, mid: 0, low: -128, high: 127, dtype: torch.int8}), Match(anchor=dequantize_per_channel_default, nodes_map={dequantize_per_channel_default: dequantize_per_channel_default_12, quantize_per_channel_default: quantize_per_channel_default_12, weight: quantize_per_channel_default_12_updated_constant0, scale: linear_12_scale_0, zero_point: linear_12_zero_point_0, mid: 0, low: -128, high: 127, dtype: torch.int8}), Match(anchor=dequantize_per_channel_default, nodes_map={dequantize_per_channel_default: dequantize_per_channel_default_13, quantize_per_channel_default: quantize_per_channel_default_13, weight: quantize_per_channel_default_13_updated_constant0, scale: linear_13_scale_0, zero_point: linear_13_zero_point_0, mid: 0, low: -128, high: 127, dtype: torch.int8}), Match(anchor=dequantize_per_channel_default, nodes_map={dequantize_per_channel_default: dequantize_per_channel_default_14, quantize_per_channel_default: quantize_per_channel_default_14, weight: quantize_per_channel_default_14_updated_constant0, scale: linear_14_scale_0, zero_point: linear_14_zero_point_0, mid: 0, low: -128, high: 127, dtype: torch.int8}), Match(anchor=dequantize_per_channel_default, nodes_map={dequantize_per_channel_default: dequantize_per_channel_default_15, quantize_per_channel_default: quantize_per_channel_default_15, weight: quantize_per_channel_default_15_updated_constant0, scale: linear_15_scale_0, zero_point: linear_15_zero_point_0, mid: 0, low: -128, high: 127, dtype: torch.int8}), Match(anchor=dequantize_per_channel_default, nodes_map={dequantize_per_channel_default: dequantize_per_channel_default_16, quantize_per_channel_default: quantize_per_channel_default_16, weight: quantize_per_channel_default_16_updated_constant0, scale: linear_16_scale_0, zero_point: linear_16_zero_point_0, mid: 0, low: -128, high: 127, dtype: torch.int8}), Match(anchor=dequantize_per_channel_default, nodes_map={dequantize_per_channel_default: dequantize_per_channel_default_17, quantize_per_channel_default: quantize_per_channel_default_17, weight: quantize_per_channel_default_17_updated_constant0, scale: linear_17_scale_0, zero_point: linear_17_zero_point_0, mid: 0, low: -128, high: 127, dtype: torch.int8}), Match(anchor=dequantize_per_channel_default, nodes_map={dequantize_per_channel_default: dequantize_per_channel_default_18, quantize_per_channel_default: quantize_per_channel_default_18, weight: quantize_per_channel_default_18_updated_constant0, scale: linear_18_scale_0, zero_point: linear_18_zero_point_0, mid: 0, low: -128, high: 127, dtype: torch.int8}), Match(anchor=dequantize_per_channel_default, nodes_map={dequantize_per_channel_default: dequantize_per_channel_default_19, quantize_per_channel_default: quantize_per_channel_default_19, weight: quantize_per_channel_default_19_updated_constant0, scale: linear_19_scale_0, zero_point: linear_19_zero_point_0, mid: 0, low: -128, high: 127, dtype: torch.int8}), Match(anchor=dequantize_per_channel_default, nodes_map={dequantize_per_channel_default: dequantize_per_channel_default_20, quantize_per_channel_default: quantize_per_channel_default_20, weight: quantize_per_channel_default_20_updated_constant0, scale: linear_20_scale_0, zero_point: linear_20_zero_point_0, mid: 0, low: -128, high: 127, dtype: torch.int8}), Match(anchor=dequantize_per_channel_default, nodes_map={dequantize_per_channel_default: dequantize_per_channel_default_21, quantize_per_channel_default: quantize_per_channel_default_21, weight: quantize_per_channel_default_21_updated_constant0, scale: linear_21_scale_0, zero_point: linear_21_zero_point_0, mid: 0, low: -128, high: 127, dtype: torch.int8}), Match(anchor=dequantize_per_channel_default, nodes_map={dequantize_per_channel_default: dequantize_per_channel_default_22, quantize_per_channel_default: quantize_per_channel_default_22, weight: quantize_per_channel_default_22_updated_constant0, scale: linear_22_scale_0, zero_point: linear_22_zero_point_0, mid: 0, low: -128, high: 127, dtype: torch.int8}), Match(anchor=dequantize_per_channel_default, nodes_map={dequantize_per_channel_default: dequantize_per_channel_default_23, quantize_per_channel_default: quantize_per_channel_default_23, weight: quantize_per_channel_default_23_updated_constant0, scale: linear_23_scale_0, zero_point: linear_23_zero_point_0, mid: 0, low: -128, high: 127, dtype: torch.int8}), Match(anchor=dequantize_per_channel_default, nodes_map={dequantize_per_channel_default: dequantize_per_channel_default_24, quantize_per_channel_default: quantize_per_channel_default_24, weight: quantize_per_channel_default_24_updated_constant0, scale: linear_24_scale_0, zero_point: linear_24_zero_point_0, mid: 0, low: -128, high: 127, dtype: torch.int8}), Match(anchor=dequantize_per_channel_default, nodes_map={dequantize_per_channel_default: dequantize_per_channel_default_25, quantize_per_channel_default: quantize_per_channel_default_25, weight: quantize_per_channel_default_25_updated_constant0, scale: linear_25_scale_0, zero_point: linear_25_zero_point_0, mid: 0, low: -128, high: 127, dtype: torch.int8}), Match(anchor=dequantize_per_channel_default, nodes_map={dequantize_per_channel_default: dequantize_per_channel_default_26, quantize_per_channel_default: quantize_per_channel_default_26, weight: quantize_per_channel_default_26_updated_constant0, scale: linear_26_scale_0, zero_point: linear_26_zero_point_0, mid: 0, low: -128, high: 127, dtype: torch.int8}), Match(anchor=dequantize_per_channel_default, nodes_map={dequantize_per_channel_default: dequantize_per_channel_default_27, quantize_per_channel_default: quantize_per_channel_default_27, weight: quantize_per_channel_default_27_updated_constant0, scale: linear_27_scale_0, zero_point: linear_27_zero_point_0, mid: 0, low: -128, high: 127, dtype: torch.int8}), Match(anchor=dequantize_per_channel_default, nodes_map={dequantize_per_channel_default: dequantize_per_channel_default_28, quantize_per_channel_default: quantize_per_channel_default_28, weight: quantize_per_channel_default_28_updated_constant0, scale: linear_28_scale_0, zero_point: linear_28_zero_point_0, mid: 0, low: -128, high: 127, dtype: torch.int8}), Match(anchor=dequantize_per_channel_default, nodes_map={dequantize_per_channel_default: dequantize_per_channel_default_29, quantize_per_channel_default: quantize_per_channel_default_29, weight: quantize_per_channel_default_29_updated_constant0, scale: linear_29_scale_0, zero_point: linear_29_zero_point_0, mid: 0, low: -128, high: 127, dtype: torch.int8}), Match(anchor=dequantize_per_channel_default, nodes_map={dequantize_per_channel_default: dequantize_per_channel_default_30, quantize_per_channel_default: quantize_per_channel_default_30, weight: quantize_per_channel_default_30_updated_constant0, scale: linear_30_scale_0, zero_point: linear_30_zero_point_0, mid: 0, low: -128, high: 127, dtype: torch.int8}), Match(anchor=dequantize_per_channel_default, nodes_map={dequantize_per_channel_default: dequantize_per_channel_default_31, quantize_per_channel_default: quantize_per_channel_default_31, weight: quantize_per_channel_default_31_updated_constant0, scale: linear_31_scale_0, zero_point: linear_31_zero_point_0, mid: 0, low: -128, high: 127, dtype: torch.int8}), Match(anchor=dequantize_per_channel_default, nodes_map={dequantize_per_channel_default: dequantize_per_channel_default_32, quantize_per_channel_default: quantize_per_channel_default_32, weight: quantize_per_channel_default_32_updated_constant0, scale: linear_32_scale_0, zero_point: linear_32_zero_point_0, mid: 0, low: -128, high: 127, dtype: torch.int8}), Match(anchor=dequantize_per_channel_default, nodes_map={dequantize_per_channel_default: dequantize_per_channel_default_33, quantize_per_channel_default: quantize_per_channel_default_33, weight: quantize_per_channel_default_33_updated_constant0, scale: linear_33_scale_0, zero_point: linear_33_zero_point_0, mid: 0, low: -128, high: 127, dtype: torch.int8}), Match(anchor=dequantize_per_channel_default, nodes_map={dequantize_per_channel_default: dequantize_per_channel_default_34, quantize_per_channel_default: quantize_per_channel_default_34, weight: quantize_per_channel_default_34_updated_constant0, scale: linear_34_scale_0, zero_point: linear_34_zero_point_0, mid: 0, low: -128, high: 127, dtype: torch.int8}), Match(anchor=dequantize_per_channel_default, nodes_map={dequantize_per_channel_default: dequantize_per_channel_default_35, quantize_per_channel_default: quantize_per_channel_default_35, weight: quantize_per_channel_default_35_updated_constant0, scale: linear_35_scale_0, zero_point: linear_35_zero_point_0, mid: 0, low: -128, high: 127, dtype: torch.int8}), Match(anchor=dequantize_per_channel_default, nodes_map={dequantize_per_channel_default: dequantize_per_channel_default_36, quantize_per_channel_default: quantize_per_channel_default_36, weight: quantize_per_channel_default_36_updated_constant0, scale: linear_36_scale_0, zero_point: linear_36_zero_point_0, mid: 0, low: -128, high: 127, dtype: torch.int8}), Match(anchor=dequantize_per_channel_default, nodes_map={dequantize_per_channel_default: dequantize_per_channel_default_37, quantize_per_channel_default: quantize_per_channel_default_37, weight: quantize_per_channel_default_37_updated_constant0, scale: linear_37_scale_0, zero_point: linear_37_zero_point_0, mid: 0, low: -128, high: 127, dtype: torch.int8}), Match(anchor=dequantize_per_channel_default, nodes_map={dequantize_per_channel_default: dequantize_per_channel_default_38, quantize_per_channel_default: quantize_per_channel_default_38, weight: quantize_per_channel_default_38_updated_constant0, scale: linear_38_scale_0, zero_point: linear_38_zero_point_0, mid: 0, low: -128, high: 127, dtype: torch.int8}), Match(anchor=dequantize_per_channel_default, nodes_map={dequantize_per_channel_default: dequantize_per_channel_default_39, quantize_per_channel_default: quantize_per_channel_default_39, weight: quantize_per_channel_default_39_updated_constant0, scale: linear_39_scale_0, zero_point: linear_39_zero_point_0, mid: 0, low: -128, high: 127, dtype: torch.int8}), Match(anchor=dequantize_per_channel_default, nodes_map={dequantize_per_channel_default: dequantize_per_channel_default_40, quantize_per_channel_default: quantize_per_channel_default_40, weight: quantize_per_channel_default_40_updated_constant0, scale: linear_40_scale_0, zero_point: linear_40_zero_point_0, mid: 0, low: -128, high: 127, dtype: torch.int8}), Match(anchor=dequantize_per_channel_default, nodes_map={dequantize_per_channel_default: dequantize_per_channel_default_41, quantize_per_channel_default: quantize_per_channel_default_41, weight: quantize_per_channel_default_41_updated_constant0, scale: linear_41_scale_0, zero_point: linear_41_zero_point_0, mid: 0, low: -128, high: 127, dtype: torch.int8}), Match(anchor=dequantize_per_channel_default, nodes_map={dequantize_per_channel_default: dequantize_per_channel_default_42, quantize_per_channel_default: quantize_per_channel_default_42, weight: quantize_per_channel_default_42_updated_constant0, scale: linear_42_scale_0, zero_point: linear_42_zero_point_0, mid: 0, low: -128, high: 127, dtype: torch.int8}), Match(anchor=dequantize_per_channel_default, nodes_map={dequantize_per_channel_default: dequantize_per_channel_default_43, quantize_per_channel_default: quantize_per_channel_default_43, weight: quantize_per_channel_default_43_updated_constant0, scale: linear_43_scale_0, zero_point: linear_43_zero_point_0, mid: 0, low: -128, high: 127, dtype: torch.int8}), Match(anchor=dequantize_per_channel_default, nodes_map={dequantize_per_channel_default: dequantize_per_channel_default_44, quantize_per_channel_default: quantize_per_channel_default_44, weight: quantize_per_channel_default_44_updated_constant0, scale: linear_44_scale_0, zero_point: linear_44_zero_point_0, mid: 0, low: -128, high: 127, dtype: torch.int8}), Match(anchor=dequantize_per_channel_default, nodes_map={dequantize_per_channel_default: dequantize_per_channel_default_45, quantize_per_channel_default: quantize_per_channel_default_45, weight: quantize_per_channel_default_45_updated_constant0, scale: linear_45_scale_0, zero_point: linear_45_zero_point_0, mid: 0, low: -128, high: 127, dtype: torch.int8}), Match(anchor=dequantize_per_channel_default, nodes_map={dequantize_per_channel_default: dequantize_per_channel_default_46, quantize_per_channel_default: quantize_per_channel_default_46, weight: quantize_per_channel_default_46_updated_constant0, scale: linear_46_scale_0, zero_point: linear_46_zero_point_0, mid: 0, low: -128, high: 127, dtype: torch.int8}), Match(anchor=dequantize_per_channel_default, nodes_map={dequantize_per_channel_default: dequantize_per_channel_default_47, quantize_per_channel_default: quantize_per_channel_default_47, weight: quantize_per_channel_default_47_updated_constant0, scale: linear_47_scale_0, zero_point: linear_47_zero_point_0, mid: 0, low: -128, high: 127, dtype: torch.int8}), Match(anchor=dequantize_per_channel_default, nodes_map={dequantize_per_channel_default: dequantize_per_channel_default_48, quantize_per_channel_default: quantize_per_channel_default_48, weight: quantize_per_channel_default_48_updated_constant0, scale: linear_48_scale_0, zero_point: linear_48_zero_point_0, mid: 0, low: -128, high: 127, dtype: torch.int8}), Match(anchor=dequantize_per_channel_default, nodes_map={dequantize_per_channel_default: dequantize_per_channel_default_49, quantize_per_channel_default: quantize_per_channel_default_49, weight: quantize_per_channel_default_49_updated_constant0, scale: linear_49_scale_0, zero_point: linear_49_zero_point_0, mid: 0, low: -128, high: 127, dtype: torch.int8}), Match(anchor=dequantize_per_channel_default, nodes_map={dequantize_per_channel_default: dequantize_per_channel_default_50, quantize_per_channel_default: quantize_per_channel_default_50, weight: quantize_per_channel_default_50_updated_constant0, scale: linear_50_scale_0, zero_point: linear_50_zero_point_0, mid: 0, low: -128, high: 127, dtype: torch.int8}), Match(anchor=dequantize_per_channel_default, nodes_map={dequantize_per_channel_default: dequantize_per_channel_default_51, quantize_per_channel_default: quantize_per_channel_default_51, weight: quantize_per_channel_default_51_updated_constant0, scale: linear_51_scale_0, zero_point: linear_51_zero_point_0, mid: 0, low: -128, high: 127, dtype: torch.int8}), Match(anchor=dequantize_per_channel_default, nodes_map={dequantize_per_channel_default: dequantize_per_channel_default_52, quantize_per_channel_default: quantize_per_channel_default_52, weight: quantize_per_channel_default_52_updated_constant0, scale: linear_52_scale_0, zero_point: linear_52_zero_point_0, mid: 0, low: -128, high: 127, dtype: torch.int8}), Match(anchor=dequantize_per_channel_default, nodes_map={dequantize_per_channel_default: dequantize_per_channel_default_53, quantize_per_channel_default: quantize_per_channel_default_53, weight: quantize_per_channel_default_53_updated_constant0, scale: linear_53_scale_0, zero_point: linear_53_zero_point_0, mid: 0, low: -128, high: 127, dtype: torch.int8}), Match(anchor=dequantize_per_channel_default, nodes_map={dequantize_per_channel_default: dequantize_per_channel_default_54, quantize_per_channel_default: quantize_per_channel_default_54, weight: quantize_per_channel_default_54_updated_constant0, scale: linear_54_scale_0, zero_point: linear_54_zero_point_0, mid: 0, low: -128, high: 127, dtype: torch.int8}), Match(anchor=dequantize_per_channel_default, nodes_map={dequantize_per_channel_default: dequantize_per_channel_default_55, quantize_per_channel_default: quantize_per_channel_default_55, weight: quantize_per_channel_default_55_updated_constant0, scale: linear_55_scale_0, zero_point: linear_55_zero_point_0, mid: 0, low: -128, high: 127, dtype: torch.int8}), Match(anchor=dequantize_per_channel_default, nodes_map={dequantize_per_channel_default: dequantize_per_channel_default_56, quantize_per_channel_default: quantize_per_channel_default_56, weight: quantize_per_channel_default_56_updated_constant0, scale: linear_56_scale_0, zero_point: linear_56_zero_point_0, mid: 0, low: -128, high: 127, dtype: torch.int8}), Match(anchor=dequantize_per_channel_default, nodes_map={dequantize_per_channel_default: dequantize_per_channel_default_57, quantize_per_channel_default: quantize_per_channel_default_57, weight: quantize_per_channel_default_57_updated_constant0, scale: linear_57_scale_0, zero_point: linear_57_zero_point_0, mid: 0, low: -128, high: 127, dtype: torch.int8}), Match(anchor=dequantize_per_channel_default, nodes_map={dequantize_per_channel_default: dequantize_per_channel_default_58, quantize_per_channel_default: quantize_per_channel_default_58, weight: quantize_per_channel_default_58_updated_constant0, scale: linear_58_scale_0, zero_point: linear_58_zero_point_0, mid: 0, low: -128, high: 127, dtype: torch.int8}), Match(anchor=dequantize_per_channel_default, nodes_map={dequantize_per_channel_default: dequantize_per_channel_default_59, quantize_per_channel_default: quantize_per_channel_default_59, weight: quantize_per_channel_default_59_updated_constant0, scale: linear_59_scale_0, zero_point: linear_59_zero_point_0, mid: 0, low: -128, high: 127, dtype: torch.int8}), Match(anchor=dequantize_per_channel_default, nodes_map={dequantize_per_channel_default: dequantize_per_channel_default_60, quantize_per_channel_default: quantize_per_channel_default_60, weight: quantize_per_channel_default_60_updated_constant0, scale: linear_60_scale_0, zero_point: linear_60_zero_point_0, mid: 0, low: -128, high: 127, dtype: torch.int8}), Match(anchor=dequantize_per_channel_default, nodes_map={dequantize_per_channel_default: dequantize_per_channel_default_61, quantize_per_channel_default: quantize_per_channel_default_61, weight: quantize_per_channel_default_61_updated_constant0, scale: linear_61_scale_0, zero_point: linear_61_zero_point_0, mid: 0, low: -128, high: 127, dtype: torch.int8}), Match(anchor=dequantize_per_channel_default, nodes_map={dequantize_per_channel_default: dequantize_per_channel_default_62, quantize_per_channel_default: quantize_per_channel_default_62, weight: quantize_per_channel_default_62_updated_constant0, scale: linear_62_scale_0, zero_point: linear_62_zero_point_0, mid: 0, low: -128, high: 127, dtype: torch.int8}), Match(anchor=dequantize_per_channel_default, nodes_map={dequantize_per_channel_default: dequantize_per_channel_default_63, quantize_per_channel_default: quantize_per_channel_default_63, weight: quantize_per_channel_default_63_updated_constant0, scale: linear_63_scale_0, zero_point: linear_63_zero_point_0, mid: 0, low: -128, high: 127, dtype: torch.int8}), Match(anchor=dequantize_per_channel_default, nodes_map={dequantize_per_channel_default: dequantize_per_channel_default_64, quantize_per_channel_default: quantize_per_channel_default_64, weight: quantize_per_channel_default_64_updated_constant0, scale: linear_64_scale_0, zero_point: linear_64_zero_point_0, mid: 0, low: -128, high: 127, dtype: torch.int8}), Match(anchor=dequantize_per_channel_default, nodes_map={dequantize_per_channel_default: dequantize_per_channel_default_65, quantize_per_channel_default: quantize_per_channel_default_65, weight: quantize_per_channel_default_65_updated_constant0, scale: linear_65_scale_0, zero_point: linear_65_zero_point_0, mid: 0, low: -128, high: 127, dtype: torch.int8}), Match(anchor=dequantize_per_channel_default, nodes_map={dequantize_per_channel_default: dequantize_per_channel_default_66, quantize_per_channel_default: quantize_per_channel_default_66, weight: quantize_per_channel_default_66_updated_constant0, scale: linear_66_scale_0, zero_point: linear_66_zero_point_0, mid: 0, low: -128, high: 127, dtype: torch.int8}), Match(anchor=dequantize_per_channel_default, nodes_map={dequantize_per_channel_default: dequantize_per_channel_default_67, quantize_per_channel_default: quantize_per_channel_default_67, weight: quantize_per_channel_default_67_updated_constant0, scale: linear_67_scale_0, zero_point: linear_67_zero_point_0, mid: 0, low: -128, high: 127, dtype: torch.int8}), Match(anchor=dequantize_per_channel_default, nodes_map={dequantize_per_channel_default: dequantize_per_channel_default_68, quantize_per_channel_default: quantize_per_channel_default_68, weight: quantize_per_channel_default_68_updated_constant0, scale: linear_68_scale_0, zero_point: linear_68_zero_point_0, mid: 0, low: -128, high: 127, dtype: torch.int8}), Match(anchor=dequantize_per_channel_default, nodes_map={dequantize_per_channel_default: dequantize_per_channel_default_69, quantize_per_channel_default: quantize_per_channel_default_69, weight: quantize_per_channel_default_69_updated_constant0, scale: linear_69_scale_0, zero_point: linear_69_zero_point_0, mid: 0, low: -128, high: 127, dtype: torch.int8}), Match(anchor=dequantize_per_channel_default, nodes_map={dequantize_per_channel_default: dequantize_per_channel_default_70, quantize_per_channel_default: quantize_per_channel_default_70, weight: quantize_per_channel_default_70_updated_constant0, scale: linear_70_scale_0, zero_point: linear_70_zero_point_0, mid: 0, low: -128, high: 127, dtype: torch.int8}), Match(anchor=dequantize_per_channel_default, nodes_map={dequantize_per_channel_default: dequantize_per_channel_default_71, quantize_per_channel_default: quantize_per_channel_default_71, weight: quantize_per_channel_default_71_updated_constant0, scale: linear_71_scale_0, zero_point: linear_71_zero_point_0, mid: 0, low: -128, high: 127, dtype: torch.int8}), Match(anchor=dequantize_per_channel_default, nodes_map={dequantize_per_channel_default: dequantize_per_channel_default_72, quantize_per_channel_default: quantize_per_channel_default_72, weight: quantize_per_channel_default_72_updated_constant0, scale: linear_72_scale_0, zero_point: linear_72_zero_point_0, mid: 0, low: -128, high: 127, dtype: torch.int8}), Match(anchor=dequantize_per_channel_default, nodes_map={dequantize_per_channel_default: dequantize_per_channel_default_73, quantize_per_channel_default: quantize_per_channel_default_73, weight: quantize_per_channel_default_73_updated_constant0, scale: linear_73_scale_0, zero_point: linear_73_zero_point_0, mid: 0, low: -128, high: 127, dtype: torch.int8}), Match(anchor=dequantize_per_channel_default, nodes_map={dequantize_per_channel_default: dequantize_per_channel_default_74, quantize_per_channel_default: quantize_per_channel_default_74, weight: quantize_per_channel_default_74_updated_constant0, scale: linear_74_scale_0, zero_point: linear_74_zero_point_0, mid: 0, low: -128, high: 127, dtype: torch.int8}), Match(anchor=dequantize_per_channel_default, nodes_map={dequantize_per_channel_default: dequantize_per_channel_default_75, quantize_per_channel_default: quantize_per_channel_default_75, weight: quantize_per_channel_default_75_updated_constant0, scale: linear_75_scale_0, zero_point: linear_75_zero_point_0, mid: 0, low: -128, high: 127, dtype: torch.int8}), Match(anchor=dequantize_per_channel_default, nodes_map={dequantize_per_channel_default: dequantize_per_channel_default_76, quantize_per_channel_default: quantize_per_channel_default_76, weight: quantize_per_channel_default_76_updated_constant0, scale: linear_76_scale_0, zero_point: linear_76_zero_point_0, mid: 0, low: -128, high: 127, dtype: torch.int8}), Match(anchor=dequantize_per_channel_default, nodes_map={dequantize_per_channel_default: dequantize_per_channel_default_77, quantize_per_channel_default: quantize_per_channel_default_77, weight: quantize_per_channel_default_77_updated_constant0, scale: linear_77_scale_0, zero_point: linear_77_zero_point_0, mid: 0, low: -128, high: 127, dtype: torch.int8}), Match(anchor=dequantize_per_channel_default, nodes_map={dequantize_per_channel_default: dequantize_per_channel_default_78, quantize_per_channel_default: quantize_per_channel_default_78, weight: quantize_per_channel_default_78_updated_constant0, scale: linear_78_scale_0, zero_point: linear_78_zero_point_0, mid: 0, low: -128, high: 127, dtype: torch.int8}), Match(anchor=dequantize_per_channel_default, nodes_map={dequantize_per_channel_default: dequantize_per_channel_default_79, quantize_per_channel_default: quantize_per_channel_default_79, weight: quantize_per_channel_default_79_updated_constant0, scale: linear_79_scale_0, zero_point: linear_79_zero_point_0, mid: 0, low: -128, high: 127, dtype: torch.int8}), Match(anchor=dequantize_per_channel_default, nodes_map={dequantize_per_channel_default: dequantize_per_channel_default_80, quantize_per_channel_default: quantize_per_channel_default_80, weight: quantize_per_channel_default_80_updated_constant0, scale: linear_80_scale_0, zero_point: linear_80_zero_point_0, mid: 0, low: -128, high: 127, dtype: torch.int8}), Match(anchor=dequantize_per_channel_default, nodes_map={dequantize_per_channel_default: dequantize_per_channel_default_81, quantize_per_channel_default: quantize_per_channel_default_81, weight: quantize_per_channel_default_81_updated_constant0, scale: linear_81_scale_0, zero_point: linear_81_zero_point_0, mid: 0, low: -128, high: 127, dtype: torch.int8}), Match(anchor=dequantize_per_channel_default, nodes_map={dequantize_per_channel_default: dequantize_per_channel_default_82, quantize_per_channel_default: quantize_per_channel_default_82, weight: quantize_per_channel_default_82_updated_constant0, scale: linear_82_scale_0, zero_point: linear_82_zero_point_0, mid: 0, low: -128, high: 127, dtype: torch.int8}), Match(anchor=dequantize_per_channel_default, nodes_map={dequantize_per_channel_default: dequantize_per_channel_default_83, quantize_per_channel_default: quantize_per_channel_default_83, weight: quantize_per_channel_default_83_updated_constant0, scale: linear_83_scale_0, zero_point: linear_83_zero_point_0, mid: 0, low: -128, high: 127, dtype: torch.int8}), Match(anchor=dequantize_per_channel_default, nodes_map={dequantize_per_channel_default: dequantize_per_channel_default_84, quantize_per_channel_default: quantize_per_channel_default_84, weight: quantize_per_channel_default_84_updated_constant0, scale: linear_84_scale_0, zero_point: linear_84_zero_point_0, mid: 0, low: -128, high: 127, dtype: torch.int8}), Match(anchor=dequantize_per_channel_default, nodes_map={dequantize_per_channel_default: dequantize_per_channel_default_85, quantize_per_channel_default: quantize_per_channel_default_85, weight: quantize_per_channel_default_85_updated_constant0, scale: linear_85_scale_0, zero_point: linear_85_zero_point_0, mid: 0, low: -128, high: 127, dtype: torch.int8}), Match(anchor=dequantize_per_channel_default, nodes_map={dequantize_per_channel_default: dequantize_per_channel_default_86, quantize_per_channel_default: quantize_per_channel_default_86, weight: quantize_per_channel_default_86_updated_constant0, scale: linear_86_scale_0, zero_point: linear_86_zero_point_0, mid: 0, low: -128, high: 127, dtype: torch.int8}), Match(anchor=dequantize_per_channel_default, nodes_map={dequantize_per_channel_default: dequantize_per_channel_default_87, quantize_per_channel_default: quantize_per_channel_default_87, weight: quantize_per_channel_default_87_updated_constant0, scale: linear_87_scale_0, zero_point: linear_87_zero_point_0, mid: 0, low: -128, high: 127, dtype: torch.int8}), Match(anchor=dequantize_per_channel_default, nodes_map={dequantize_per_channel_default: dequantize_per_channel_default_88, quantize_per_channel_default: quantize_per_channel_default_88, weight: quantize_per_channel_default_88_updated_constant0, scale: linear_88_scale_0, zero_point: linear_88_zero_point_0, mid: 0, low: -128, high: 127, dtype: torch.int8}), Match(anchor=dequantize_per_channel_default, nodes_map={dequantize_per_channel_default: dequantize_per_channel_default_89, quantize_per_channel_default: quantize_per_channel_default_89, weight: quantize_per_channel_default_89_updated_constant0, scale: linear_89_scale_0, zero_point: linear_89_zero_point_0, mid: 0, low: -128, high: 127, dtype: torch.int8}), Match(anchor=dequantize_per_channel_default, nodes_map={dequantize_per_channel_default: dequantize_per_channel_default_90, quantize_per_channel_default: quantize_per_channel_default_90, weight: quantize_per_channel_default_90_updated_constant0, scale: linear_90_scale_0, zero_point: linear_90_zero_point_0, mid: 0, low: -128, high: 127, dtype: torch.int8}), Match(anchor=dequantize_per_channel_default, nodes_map={dequantize_per_channel_default: dequantize_per_channel_default_91, quantize_per_channel_default: quantize_per_channel_default_91, weight: quantize_per_channel_default_91_updated_constant0, scale: linear_91_scale_0, zero_point: linear_91_zero_point_0, mid: 0, low: -128, high: 127, dtype: torch.int8}), Match(anchor=dequantize_per_channel_default, nodes_map={dequantize_per_channel_default: dequantize_per_channel_default_92, quantize_per_channel_default: quantize_per_channel_default_92, weight: quantize_per_channel_default_92_updated_constant0, scale: linear_92_scale_0, zero_point: linear_92_zero_point_0, mid: 0, low: -128, high: 127, dtype: torch.int8}), Match(anchor=dequantize_per_channel_default, nodes_map={dequantize_per_channel_default: dequantize_per_channel_default_93, quantize_per_channel_default: quantize_per_channel_default_93, weight: quantize_per_channel_default_93_updated_constant0, scale: linear_93_scale_0, zero_point: linear_93_zero_point_0, mid: 0, low: -128, high: 127, dtype: torch.int8}), Match(anchor=dequantize_per_channel_default, nodes_map={dequantize_per_channel_default: dequantize_per_channel_default_94, quantize_per_channel_default: quantize_per_channel_default_94, weight: quantize_per_channel_default_94_updated_constant0, scale: linear_94_scale_0, zero_point: linear_94_zero_point_0, mid: 0, low: -128, high: 127, dtype: torch.int8}), Match(anchor=dequantize_per_channel_default, nodes_map={dequantize_per_channel_default: dequantize_per_channel_default_95, quantize_per_channel_default: quantize_per_channel_default_95, weight: quantize_per_channel_default_95_updated_constant0, scale: linear_95_scale_0, zero_point: linear_95_zero_point_0, mid: 0, low: -128, high: 127, dtype: torch.int8}), Match(anchor=dequantize_per_channel_default, nodes_map={dequantize_per_channel_default: dequantize_per_channel_default_96, quantize_per_channel_default: quantize_per_channel_default_96, weight: quantize_per_channel_default_96_updated_constant0, scale: linear_96_scale_0, zero_point: linear_96_zero_point_0, mid: 0, low: -128, high: 127, dtype: torch.int8}), Match(anchor=dequantize_per_channel_default, nodes_map={dequantize_per_channel_default: dequantize_per_channel_default_97, quantize_per_channel_default: quantize_per_channel_default_97, weight: quantize_per_channel_default_97_updated_constant0, scale: linear_97_scale_0, zero_point: linear_97_zero_point_0, mid: 0, low: -128, high: 127, dtype: torch.int8}), Match(anchor=dequantize_per_channel_default, nodes_map={dequantize_per_channel_default: dequantize_per_channel_default_98, quantize_per_channel_default: quantize_per_channel_default_98, weight: quantize_per_channel_default_98_updated_constant0, scale: linear_98_scale_0, zero_point: linear_98_zero_point_0, mid: 0, low: -128, high: 127, dtype: torch.int8}), Match(anchor=dequantize_per_channel_default, nodes_map={dequantize_per_channel_default: dequantize_per_channel_default_99, quantize_per_channel_default: quantize_per_channel_default_99, weight: quantize_per_channel_default_99_updated_constant0, scale: linear_99_scale_0, zero_point: linear_99_zero_point_0, mid: 0, low: -128, high: 127, dtype: torch.int8}), Match(anchor=dequantize_per_channel_default, nodes_map={dequantize_per_channel_default: dequantize_per_channel_default_100, quantize_per_channel_default: quantize_per_channel_default_100, weight: quantize_per_channel_default_100_updated_constant0, scale: linear_100_scale_0, zero_point: linear_100_zero_point_0, mid: 0, low: -128, high: 127, dtype: torch.int8}), Match(anchor=dequantize_per_channel_default, nodes_map={dequantize_per_channel_default: dequantize_per_channel_default_101, quantize_per_channel_default: quantize_per_channel_default_101, weight: quantize_per_channel_default_101_updated_constant0, scale: linear_101_scale_0, zero_point: linear_101_zero_point_0, mid: 0, low: -128, high: 127, dtype: torch.int8}), Match(anchor=dequantize_per_channel_default, nodes_map={dequantize_per_channel_default: dequantize_per_channel_default_102, quantize_per_channel_default: quantize_per_channel_default_102, weight: quantize_per_channel_default_102_updated_constant0, scale: linear_102_scale_0, zero_point: linear_102_zero_point_0, mid: 0, low: -128, high: 127, dtype: torch.int8}), Match(anchor=dequantize_per_channel_default, nodes_map={dequantize_per_channel_default: dequantize_per_channel_default_103, quantize_per_channel_default: quantize_per_channel_default_103, weight: quantize_per_channel_default_103_updated_constant0, scale: linear_103_scale_0, zero_point: linear_103_zero_point_0, mid: 0, low: -128, high: 127, dtype: torch.int8}), Match(anchor=dequantize_per_channel_default, nodes_map={dequantize_per_channel_default: dequantize_per_channel_default_104, quantize_per_channel_default: quantize_per_channel_default_104, weight: quantize_per_channel_default_104_updated_constant0, scale: linear_104_scale_0, zero_point: linear_104_zero_point_0, mid: 0, low: -128, high: 127, dtype: torch.int8}), Match(anchor=dequantize_per_channel_default, nodes_map={dequantize_per_channel_default: dequantize_per_channel_default_105, quantize_per_channel_default: quantize_per_channel_default_105, weight: quantize_per_channel_default_105_updated_constant0, scale: linear_105_scale_0, zero_point: linear_105_zero_point_0, mid: 0, low: -128, high: 127, dtype: torch.int8}), Match(anchor=dequantize_per_channel_default, nodes_map={dequantize_per_channel_default: dequantize_per_channel_default_106, quantize_per_channel_default: quantize_per_channel_default_106, weight: quantize_per_channel_default_106_updated_constant0, scale: linear_106_scale_0, zero_point: linear_106_zero_point_0, mid: 0, low: -128, high: 127, dtype: torch.int8}), Match(anchor=dequantize_per_channel_default, nodes_map={dequantize_per_channel_default: dequantize_per_channel_default_107, quantize_per_channel_default: quantize_per_channel_default_107, weight: quantize_per_channel_default_107_updated_constant0, scale: linear_107_scale_0, zero_point: linear_107_zero_point_0, mid: 0, low: -128, high: 127, dtype: torch.int8}), Match(anchor=dequantize_per_channel_default, nodes_map={dequantize_per_channel_default: dequantize_per_channel_default_108, quantize_per_channel_default: quantize_per_channel_default_108, weight: quantize_per_channel_default_108_updated_constant0, scale: linear_108_scale_0, zero_point: linear_108_zero_point_0, mid: 0, low: -128, high: 127, dtype: torch.int8}), Match(anchor=dequantize_per_channel_default, nodes_map={dequantize_per_channel_default: dequantize_per_channel_default_109, quantize_per_channel_default: quantize_per_channel_default_109, weight: quantize_per_channel_default_109_updated_constant0, scale: linear_109_scale_0, zero_point: linear_109_zero_point_0, mid: 0, low: -128, high: 127, dtype: torch.int8}), Match(anchor=dequantize_per_channel_default, nodes_map={dequantize_per_channel_default: dequantize_per_channel_default_110, quantize_per_channel_default: quantize_per_channel_default_110, weight: quantize_per_channel_default_110_updated_constant0, scale: linear_110_scale_0, zero_point: linear_110_zero_point_0, mid: 0, low: -128, high: 127, dtype: torch.int8}), Match(anchor=dequantize_per_channel_default, nodes_map={dequantize_per_channel_default: dequantize_per_channel_default_111, quantize_per_channel_default: quantize_per_channel_default_111, weight: quantize_per_channel_default_111_updated_constant0, scale: linear_111_scale_0, zero_point: linear_111_zero_point_0, mid: 0, low: -128, high: 127, dtype: torch.int8}), Match(anchor=dequantize_per_channel_default, nodes_map={dequantize_per_channel_default: dequantize_per_channel_default_112, quantize_per_channel_default: quantize_per_channel_default_112, weight: quantize_per_channel_default_112_updated_constant0, scale: linear_112_scale_0, zero_point: linear_112_zero_point_0, mid: 0, low: -128, high: 127, dtype: torch.int8}), Match(anchor=dequantize_per_channel_default, nodes_map={dequantize_per_channel_default: dequantize_per_channel_default_113, quantize_per_channel_default: quantize_per_channel_default_113, weight: quantize_per_channel_default_113_updated_constant0, scale: linear_113_scale_0, zero_point: linear_113_zero_point_0, mid: 0, low: -128, high: 127, dtype: torch.int8}), Match(anchor=dequantize_per_channel_default, nodes_map={dequantize_per_channel_default: dequantize_per_channel_default_114, quantize_per_channel_default: quantize_per_channel_default_114, weight: quantize_per_channel_default_114_updated_constant0, scale: linear_114_scale_0, zero_point: linear_114_zero_point_0, mid: 0, low: -128, high: 127, dtype: torch.int8}), Match(anchor=dequantize_per_channel_default, nodes_map={dequantize_per_channel_default: dequantize_per_channel_default_115, quantize_per_channel_default: quantize_per_channel_default_115, weight: quantize_per_channel_default_115_updated_constant0, scale: linear_115_scale_0, zero_point: linear_115_zero_point_0, mid: 0, low: -128, high: 127, dtype: torch.int8}), Match(anchor=dequantize_per_channel_default, nodes_map={dequantize_per_channel_default: dequantize_per_channel_default_116, quantize_per_channel_default: quantize_per_channel_default_116, weight: quantize_per_channel_default_116_updated_constant0, scale: linear_116_scale_0, zero_point: linear_116_zero_point_0, mid: 0, low: -128, high: 127, dtype: torch.int8}), Match(anchor=dequantize_per_channel_default, nodes_map={dequantize_per_channel_default: dequantize_per_channel_default_117, quantize_per_channel_default: quantize_per_channel_default_117, weight: quantize_per_channel_default_117_updated_constant0, scale: linear_117_scale_0, zero_point: linear_117_zero_point_0, mid: 0, low: -128, high: 127, dtype: torch.int8}), Match(anchor=dequantize_per_channel_default, nodes_map={dequantize_per_channel_default: dequantize_per_channel_default_118, quantize_per_channel_default: quantize_per_channel_default_118, weight: quantize_per_channel_default_118_updated_constant0, scale: linear_118_scale_0, zero_point: linear_118_zero_point_0, mid: 0, low: -128, high: 127, dtype: torch.int8}), Match(anchor=dequantize_per_channel_default, nodes_map={dequantize_per_channel_default: dequantize_per_channel_default_119, quantize_per_channel_default: quantize_per_channel_default_119, weight: quantize_per_channel_default_119_updated_constant0, scale: linear_119_scale_0, zero_point: linear_119_zero_point_0, mid: 0, low: -128, high: 127, dtype: torch.int8}), Match(anchor=dequantize_per_channel_default, nodes_map={dequantize_per_channel_default: dequantize_per_channel_default_120, quantize_per_channel_default: quantize_per_channel_default_120, weight: quantize_per_channel_default_120_updated_constant0, scale: linear_120_scale_0, zero_point: linear_120_zero_point_0, mid: 0, low: -128, high: 127, dtype: torch.int8}), Match(anchor=dequantize_per_channel_default, nodes_map={dequantize_per_channel_default: dequantize_per_channel_default_121, quantize_per_channel_default: quantize_per_channel_default_121, weight: quantize_per_channel_default_121_updated_constant0, scale: linear_121_scale_0, zero_point: linear_121_zero_point_0, mid: 0, low: -128, high: 127, dtype: torch.int8}), Match(anchor=dequantize_per_channel_default, nodes_map={dequantize_per_channel_default: dequantize_per_channel_default_122, quantize_per_channel_default: quantize_per_channel_default_122, weight: quantize_per_channel_default_122_updated_constant0, scale: linear_122_scale_0, zero_point: linear_122_zero_point_0, mid: 0, low: -128, high: 127, dtype: torch.int8}), Match(anchor=dequantize_per_channel_default, nodes_map={dequantize_per_channel_default: dequantize_per_channel_default_123, quantize_per_channel_default: quantize_per_channel_default_123, weight: quantize_per_channel_default_123_updated_constant0, scale: linear_123_scale_0, zero_point: linear_123_zero_point_0, mid: 0, low: -128, high: 127, dtype: torch.int8}), Match(anchor=dequantize_per_channel_default, nodes_map={dequantize_per_channel_default: dequantize_per_channel_default_124, quantize_per_channel_default: quantize_per_channel_default_124, weight: quantize_per_channel_default_124_updated_constant0, scale: linear_124_scale_0, zero_point: linear_124_zero_point_0, mid: 0, low: -128, high: 127, dtype: torch.int8}), Match(anchor=dequantize_per_channel_default, nodes_map={dequantize_per_channel_default: dequantize_per_channel_default_125, quantize_per_channel_default: quantize_per_channel_default_125, weight: quantize_per_channel_default_125_updated_constant0, scale: linear_125_scale_0, zero_point: linear_125_zero_point_0, mid: 0, low: -128, high: 127, dtype: torch.int8}), Match(anchor=dequantize_per_channel_default, nodes_map={dequantize_per_channel_default: dequantize_per_channel_default_126, quantize_per_channel_default: quantize_per_channel_default_126, weight: quantize_per_channel_default_126_updated_constant0, scale: linear_126_scale_0, zero_point: linear_126_zero_point_0, mid: 0, low: -128, high: 127, dtype: torch.int8}), Match(anchor=dequantize_per_channel_default, nodes_map={dequantize_per_channel_default: dequantize_per_channel_default_127, quantize_per_channel_default: quantize_per_channel_default_127, weight: quantize_per_channel_default_127_updated_constant0, scale: linear_127_scale_0, zero_point: linear_127_zero_point_0, mid: 0, low: -128, high: 127, dtype: torch.int8}), Match(anchor=dequantize_per_channel_default, nodes_map={dequantize_per_channel_default: dequantize_per_channel_default_128, quantize_per_channel_default: quantize_per_channel_default_128, weight: quantize_per_channel_default_128_updated_constant0, scale: linear_128_scale_0, zero_point: linear_128_zero_point_0, mid: 0, low: -128, high: 127, dtype: torch.int8}), Match(anchor=dequantize_per_channel_default, nodes_map={dequantize_per_channel_default: dequantize_per_channel_default_129, quantize_per_channel_default: quantize_per_channel_default_129, weight: quantize_per_channel_default_129_updated_constant0, scale: linear_129_scale_0, zero_point: linear_129_zero_point_0, mid: 0, low: -128, high: 127, dtype: torch.int8}), Match(anchor=dequantize_per_channel_default, nodes_map={dequantize_per_channel_default: dequantize_per_channel_default_130, quantize_per_channel_default: quantize_per_channel_default_130, weight: quantize_per_channel_default_130_updated_constant0, scale: linear_130_scale_0, zero_point: linear_130_zero_point_0, mid: 0, low: -128, high: 127, dtype: torch.int8}), Match(anchor=dequantize_per_channel_default, nodes_map={dequantize_per_channel_default: dequantize_per_channel_default_131, quantize_per_channel_default: quantize_per_channel_default_131, weight: quantize_per_channel_default_131_updated_constant0, scale: linear_131_scale_0, zero_point: linear_131_zero_point_0, mid: 0, low: -128, high: 127, dtype: torch.int8}), Match(anchor=dequantize_per_channel_default, nodes_map={dequantize_per_channel_default: dequantize_per_channel_default_132, quantize_per_channel_default: quantize_per_channel_default_132, weight: quantize_per_channel_default_132_updated_constant0, scale: linear_132_scale_0, zero_point: linear_132_zero_point_0, mid: 0, low: -128, high: 127, dtype: torch.int8}), Match(anchor=dequantize_per_channel_default, nodes_map={dequantize_per_channel_default: dequantize_per_channel_default_133, quantize_per_channel_default: quantize_per_channel_default_133, weight: quantize_per_channel_default_133_updated_constant0, scale: linear_133_scale_0, zero_point: linear_133_zero_point_0, mid: 0, low: -128, high: 127, dtype: torch.int8}), Match(anchor=dequantize_per_channel_default, nodes_map={dequantize_per_channel_default: dequantize_per_channel_default_134, quantize_per_channel_default: quantize_per_channel_default_134, weight: quantize_per_channel_default_134_updated_constant0, scale: linear_134_scale_0, zero_point: linear_134_zero_point_0, mid: 0, low: -128, high: 127, dtype: torch.int8}), Match(anchor=dequantize_per_channel_default, nodes_map={dequantize_per_channel_default: dequantize_per_channel_default_135, quantize_per_channel_default: quantize_per_channel_default_135, weight: quantize_per_channel_default_135_updated_constant0, scale: linear_135_scale_0, zero_point: linear_135_zero_point_0, mid: 0, low: -128, high: 127, dtype: torch.int8}), Match(anchor=dequantize_per_channel_default, nodes_map={dequantize_per_channel_default: dequantize_per_channel_default_136, quantize_per_channel_default: quantize_per_channel_default_136, weight: quantize_per_channel_default_136_updated_constant0, scale: linear_136_scale_0, zero_point: linear_136_zero_point_0, mid: 0, low: -128, high: 127, dtype: torch.int8}), Match(anchor=dequantize_per_channel_default, nodes_map={dequantize_per_channel_default: dequantize_per_channel_default_137, quantize_per_channel_default: quantize_per_channel_default_137, weight: quantize_per_channel_default_137_updated_constant0, scale: linear_137_scale_0, zero_point: linear_137_zero_point_0, mid: 0, low: -128, high: 127, dtype: torch.int8}), Match(anchor=dequantize_per_channel_default, nodes_map={dequantize_per_channel_default: dequantize_per_channel_default_138, quantize_per_channel_default: quantize_per_channel_default_138, weight: quantize_per_channel_default_138_updated_constant0, scale: linear_138_scale_0, zero_point: linear_138_zero_point_0, mid: 0, low: -128, high: 127, dtype: torch.int8}), Match(anchor=dequantize_per_channel_default, nodes_map={dequantize_per_channel_default: dequantize_per_channel_default_139, quantize_per_channel_default: quantize_per_channel_default_139, weight: quantize_per_channel_default_139_updated_constant0, scale: linear_139_scale_0, zero_point: linear_139_zero_point_0, mid: 0, low: -128, high: 127, dtype: torch.int8}), Match(anchor=dequantize_per_channel_default, nodes_map={dequantize_per_channel_default: dequantize_per_channel_default_140, quantize_per_channel_default: quantize_per_channel_default_140, weight: quantize_per_channel_default_140_updated_constant0, scale: linear_140_scale_0, zero_point: linear_140_zero_point_0, mid: 0, low: -128, high: 127, dtype: torch.int8}), Match(anchor=dequantize_per_channel_default, nodes_map={dequantize_per_channel_default: dequantize_per_channel_default_141, quantize_per_channel_default: quantize_per_channel_default_141, weight: quantize_per_channel_default_141_updated_constant0, scale: linear_141_scale_0, zero_point: linear_141_zero_point_0, mid: 0, low: -128, high: 127, dtype: torch.int8}), Match(anchor=dequantize_per_channel_default, nodes_map={dequantize_per_channel_default: dequantize_per_channel_default_142, quantize_per_channel_default: quantize_per_channel_default_142, weight: quantize_per_channel_default_142_updated_constant0, scale: linear_142_scale_0, zero_point: linear_142_zero_point_0, mid: 0, low: -128, high: 127, dtype: torch.int8}), Match(anchor=dequantize_per_channel_default, nodes_map={dequantize_per_channel_default: dequantize_per_channel_default_143, quantize_per_channel_default: quantize_per_channel_default_143, weight: quantize_per_channel_default_143_updated_constant0, scale: linear_143_scale_0, zero_point: linear_143_zero_point_0, mid: 0, low: -128, high: 127, dtype: torch.int8}), Match(anchor=dequantize_per_channel_default, nodes_map={dequantize_per_channel_default: dequantize_per_channel_default_144, quantize_per_channel_default: quantize_per_channel_default_144, weight: quantize_per_channel_default_144_updated_constant0, scale: linear_144_scale_0, zero_point: linear_144_zero_point_0, mid: 0, low: -128, high: 127, dtype: torch.int8}), Match(anchor=dequantize_per_channel_default, nodes_map={dequantize_per_channel_default: dequantize_per_channel_default_145, quantize_per_channel_default: quantize_per_channel_default_145, weight: quantize_per_channel_default_145_updated_constant0, scale: linear_145_scale_0, zero_point: linear_145_zero_point_0, mid: 0, low: -128, high: 127, dtype: torch.int8}), Match(anchor=dequantize_per_channel_default, nodes_map={dequantize_per_channel_default: dequantize_per_channel_default_146, quantize_per_channel_default: quantize_per_channel_default_146, weight: quantize_per_channel_default_146_updated_constant0, scale: linear_146_scale_0, zero_point: linear_146_zero_point_0, mid: 0, low: -128, high: 127, dtype: torch.int8}), Match(anchor=dequantize_per_channel_default, nodes_map={dequantize_per_channel_default: dequantize_per_channel_default_147, quantize_per_channel_default: quantize_per_channel_default_147, weight: quantize_per_channel_default_147_updated_constant0, scale: linear_147_scale_0, zero_point: linear_147_zero_point_0, mid: 0, low: -128, high: 127, dtype: torch.int8}), Match(anchor=dequantize_per_channel_default, nodes_map={dequantize_per_channel_default: dequantize_per_channel_default_148, quantize_per_channel_default: quantize_per_channel_default_148, weight: quantize_per_channel_default_148_updated_constant0, scale: linear_148_scale_0, zero_point: linear_148_zero_point_0, mid: 0, low: -128, high: 127, dtype: torch.int8}), Match(anchor=dequantize_per_channel_default, nodes_map={dequantize_per_channel_default: dequantize_per_channel_default_149, quantize_per_channel_default: quantize_per_channel_default_149, weight: quantize_per_channel_default_149_updated_constant0, scale: linear_149_scale_0, zero_point: linear_149_zero_point_0, mid: 0, low: -128, high: 127, dtype: torch.int8}), Match(anchor=dequantize_per_channel_default, nodes_map={dequantize_per_channel_default: dequantize_per_channel_default_150, quantize_per_channel_default: quantize_per_channel_default_150, weight: quantize_per_channel_default_150_updated_constant0, scale: linear_150_scale_0, zero_point: linear_150_zero_point_0, mid: 0, low: -128, high: 127, dtype: torch.int8}), Match(anchor=dequantize_per_channel_default, nodes_map={dequantize_per_channel_default: dequantize_per_channel_default_151, quantize_per_channel_default: quantize_per_channel_default_151, weight: quantize_per_channel_default_151_updated_constant0, scale: linear_151_scale_0, zero_point: linear_151_zero_point_0, mid: 0, low: -128, high: 127, dtype: torch.int8}), Match(anchor=dequantize_per_channel_default, nodes_map={dequantize_per_channel_default: dequantize_per_channel_default_152, quantize_per_channel_default: quantize_per_channel_default_152, weight: quantize_per_channel_default_152_updated_constant0, scale: linear_152_scale_0, zero_point: linear_152_zero_point_0, mid: 0, low: -128, high: 127, dtype: torch.int8}), Match(anchor=dequantize_per_channel_default, nodes_map={dequantize_per_channel_default: dequantize_per_channel_default_153, quantize_per_channel_default: quantize_per_channel_default_153, weight: quantize_per_channel_default_153_updated_constant0, scale: linear_153_scale_0, zero_point: linear_153_zero_point_0, mid: 0, low: -128, high: 127, dtype: torch.int8}), Match(anchor=dequantize_per_channel_default, nodes_map={dequantize_per_channel_default: dequantize_per_channel_default_154, quantize_per_channel_default: quantize_per_channel_default_154, weight: quantize_per_channel_default_154_updated_constant0, scale: linear_154_scale_0, zero_point: linear_154_zero_point_0, mid: 0, low: -128, high: 127, dtype: torch.int8}), Match(anchor=dequantize_per_channel_default, nodes_map={dequantize_per_channel_default: dequantize_per_channel_default_155, quantize_per_channel_default: quantize_per_channel_default_155, weight: quantize_per_channel_default_155_updated_constant0, scale: linear_155_scale_0, zero_point: linear_155_zero_point_0, mid: 0, low: -128, high: 127, dtype: torch.int8}), Match(anchor=dequantize_per_channel_default, nodes_map={dequantize_per_channel_default: dequantize_per_channel_default_156, quantize_per_channel_default: quantize_per_channel_default_156, weight: quantize_per_channel_default_156_updated_constant0, scale: linear_156_scale_0, zero_point: linear_156_zero_point_0, mid: 0, low: -128, high: 127, dtype: torch.int8}), Match(anchor=dequantize_per_channel_default, nodes_map={dequantize_per_channel_default: dequantize_per_channel_default_157, quantize_per_channel_default: quantize_per_channel_default_157, weight: quantize_per_channel_default_157_updated_constant0, scale: linear_157_scale_0, zero_point: linear_157_zero_point_0, mid: 0, low: -128, high: 127, dtype: torch.int8}), Match(anchor=dequantize_per_channel_default, nodes_map={dequantize_per_channel_default: dequantize_per_channel_default_158, quantize_per_channel_default: quantize_per_channel_default_158, weight: quantize_per_channel_default_158_updated_constant0, scale: linear_158_scale_0, zero_point: linear_158_zero_point_0, mid: 0, low: -128, high: 127, dtype: torch.int8}), Match(anchor=dequantize_per_channel_default, nodes_map={dequantize_per_channel_default: dequantize_per_channel_default_159, quantize_per_channel_default: quantize_per_channel_default_159, weight: quantize_per_channel_default_159_updated_constant0, scale: linear_159_scale_0, zero_point: linear_159_zero_point_0, mid: 0, low: -128, high: 127, dtype: torch.int8}), Match(anchor=dequantize_per_channel_default, nodes_map={dequantize_per_channel_default: dequantize_per_channel_default_160, quantize_per_channel_default: quantize_per_channel_default_160, weight: quantize_per_channel_default_160_updated_constant0, scale: linear_160_scale_0, zero_point: linear_160_zero_point_0, mid: 0, low: -128, high: 127, dtype: torch.int8}), Match(anchor=dequantize_per_channel_default, nodes_map={dequantize_per_channel_default: dequantize_per_channel_default_161, quantize_per_channel_default: quantize_per_channel_default_161, weight: quantize_per_channel_default_161_updated_constant0, scale: linear_161_scale_0, zero_point: linear_161_zero_point_0, mid: 0, low: -128, high: 127, dtype: torch.int8}), Match(anchor=dequantize_per_channel_default, nodes_map={dequantize_per_channel_default: dequantize_per_channel_default_162, quantize_per_channel_default: quantize_per_channel_default_162, weight: quantize_per_channel_default_162_updated_constant0, scale: linear_162_scale_0, zero_point: linear_162_zero_point_0, mid: 0, low: -128, high: 127, dtype: torch.int8}), Match(anchor=dequantize_per_channel_default, nodes_map={dequantize_per_channel_default: dequantize_per_channel_default_163, quantize_per_channel_default: quantize_per_channel_default_163, weight: quantize_per_channel_default_163_updated_constant0, scale: linear_163_scale_0, zero_point: linear_163_zero_point_0, mid: 0, low: -128, high: 127, dtype: torch.int8}), Match(anchor=dequantize_per_channel_default, nodes_map={dequantize_per_channel_default: dequantize_per_channel_default_164, quantize_per_channel_default: quantize_per_channel_default_164, weight: quantize_per_channel_default_164_updated_constant0, scale: linear_164_scale_0, zero_point: linear_164_zero_point_0, mid: 0, low: -128, high: 127, dtype: torch.int8}), Match(anchor=dequantize_per_channel_default, nodes_map={dequantize_per_channel_default: dequantize_per_channel_default_165, quantize_per_channel_default: quantize_per_channel_default_165, weight: quantize_per_channel_default_165_updated_constant0, scale: linear_165_scale_0, zero_point: linear_165_zero_point_0, mid: 0, low: -128, high: 127, dtype: torch.int8}), Match(anchor=dequantize_per_channel_default, nodes_map={dequantize_per_channel_default: dequantize_per_channel_default_166, quantize_per_channel_default: quantize_per_channel_default_166, weight: quantize_per_channel_default_166_updated_constant0, scale: linear_166_scale_0, zero_point: linear_166_zero_point_0, mid: 0, low: -128, high: 127, dtype: torch.int8}), Match(anchor=dequantize_per_channel_default, nodes_map={dequantize_per_channel_default: dequantize_per_channel_default_167, quantize_per_channel_default: quantize_per_channel_default_167, weight: quantize_per_channel_default_167_updated_constant0, scale: linear_167_scale_0, zero_point: linear_167_zero_point_0, mid: 0, low: -128, high: 127, dtype: torch.int8}), Match(anchor=dequantize_per_channel_default, nodes_map={dequantize_per_channel_default: dequantize_per_channel_default_168, quantize_per_channel_default: quantize_per_channel_default_168, weight: quantize_per_channel_default_168_updated_constant0, scale: linear_168_scale_0, zero_point: linear_168_zero_point_0, mid: 0, low: -128, high: 127, dtype: torch.int8}), Match(anchor=dequantize_per_channel_default, nodes_map={dequantize_per_channel_default: dequantize_per_channel_default_169, quantize_per_channel_default: quantize_per_channel_default_169, weight: quantize_per_channel_default_169_updated_constant0, scale: linear_169_scale_0, zero_point: linear_169_zero_point_0, mid: 0, low: -128, high: 127, dtype: torch.int8}), Match(anchor=dequantize_per_channel_default, nodes_map={dequantize_per_channel_default: dequantize_per_channel_default_170, quantize_per_channel_default: quantize_per_channel_default_170, weight: quantize_per_channel_default_170_updated_constant0, scale: linear_170_scale_0, zero_point: linear_170_zero_point_0, mid: 0, low: -128, high: 127, dtype: torch.int8}), Match(anchor=dequantize_per_channel_default, nodes_map={dequantize_per_channel_default: dequantize_per_channel_default_171, quantize_per_channel_default: quantize_per_channel_default_171, weight: quantize_per_channel_default_171_updated_constant0, scale: linear_171_scale_0, zero_point: linear_171_zero_point_0, mid: 0, low: -128, high: 127, dtype: torch.int8}), Match(anchor=dequantize_per_channel_default, nodes_map={dequantize_per_channel_default: dequantize_per_channel_default_172, quantize_per_channel_default: quantize_per_channel_default_172, weight: quantize_per_channel_default_172_updated_constant0, scale: linear_172_scale_0, zero_point: linear_172_zero_point_0, mid: 0, low: -128, high: 127, dtype: torch.int8}), Match(anchor=dequantize_per_channel_default, nodes_map={dequantize_per_channel_default: dequantize_per_channel_default_173, quantize_per_channel_default: quantize_per_channel_default_173, weight: quantize_per_channel_default_173_updated_constant0, scale: linear_173_scale_0, zero_point: linear_173_zero_point_0, mid: 0, low: -128, high: 127, dtype: torch.int8}), Match(anchor=dequantize_per_channel_default, nodes_map={dequantize_per_channel_default: dequantize_per_channel_default_174, quantize_per_channel_default: quantize_per_channel_default_174, weight: quantize_per_channel_default_174_updated_constant0, scale: linear_174_scale_0, zero_point: linear_174_zero_point_0, mid: 0, low: -128, high: 127, dtype: torch.int8}), Match(anchor=dequantize_per_channel_default, nodes_map={dequantize_per_channel_default: dequantize_per_channel_default_175, quantize_per_channel_default: quantize_per_channel_default_175, weight: quantize_per_channel_default_175_updated_constant0, scale: linear_175_scale_0, zero_point: linear_175_zero_point_0, mid: 0, low: -128, high: 127, dtype: torch.int8}), Match(anchor=dequantize_per_channel_default, nodes_map={dequantize_per_channel_default: dequantize_per_channel_default_176, quantize_per_channel_default: quantize_per_channel_default_176, weight: quantize_per_channel_default_176_updated_constant0, scale: linear_176_scale_0, zero_point: linear_176_zero_point_0, mid: 0, low: -128, high: 127, dtype: torch.int8}), Match(anchor=dequantize_per_channel_default, nodes_map={dequantize_per_channel_default: dequantize_per_channel_default_177, quantize_per_channel_default: quantize_per_channel_default_177, weight: quantize_per_channel_default_177_updated_constant0, scale: linear_177_scale_0, zero_point: linear_177_zero_point_0, mid: 0, low: -128, high: 127, dtype: torch.int8}), Match(anchor=dequantize_per_channel_default, nodes_map={dequantize_per_channel_default: dequantize_per_channel_default_178, quantize_per_channel_default: quantize_per_channel_default_178, weight: quantize_per_channel_default_178_updated_constant0, scale: linear_178_scale_0, zero_point: linear_178_zero_point_0, mid: 0, low: -128, high: 127, dtype: torch.int8}), Match(anchor=dequantize_per_channel_default, nodes_map={dequantize_per_channel_default: dequantize_per_channel_default_179, quantize_per_channel_default: quantize_per_channel_default_179, weight: quantize_per_channel_default_179_updated_constant0, scale: linear_179_scale_0, zero_point: linear_179_zero_point_0, mid: 0, low: -128, high: 127, dtype: torch.int8}), Match(anchor=dequantize_per_channel_default, nodes_map={dequantize_per_channel_default: dequantize_per_channel_default_180, quantize_per_channel_default: quantize_per_channel_default_180, weight: quantize_per_channel_default_180_updated_constant0, scale: linear_180_scale_0, zero_point: linear_180_zero_point_0, mid: 0, low: -128, high: 127, dtype: torch.int8}), Match(anchor=dequantize_per_channel_default, nodes_map={dequantize_per_channel_default: dequantize_per_channel_default_181, quantize_per_channel_default: quantize_per_channel_default_181, weight: quantize_per_channel_default_181_updated_constant0, scale: linear_181_scale_0, zero_point: linear_181_zero_point_0, mid: 0, low: -128, high: 127, dtype: torch.int8}), Match(anchor=dequantize_per_channel_default, nodes_map={dequantize_per_channel_default: dequantize_per_channel_default_182, quantize_per_channel_default: quantize_per_channel_default_182, weight: quantize_per_channel_default_182_updated_constant0, scale: linear_182_scale_0, zero_point: linear_182_zero_point_0, mid: 0, low: -128, high: 127, dtype: torch.int8}), Match(anchor=dequantize_per_channel_default, nodes_map={dequantize_per_channel_default: dequantize_per_channel_default_183, quantize_per_channel_default: quantize_per_channel_default_183, weight: quantize_per_channel_default_183_updated_constant0, scale: linear_183_scale_0, zero_point: linear_183_zero_point_0, mid: 0, low: -128, high: 127, dtype: torch.int8}), Match(anchor=dequantize_per_channel_default, nodes_map={dequantize_per_channel_default: dequantize_per_channel_default_184, quantize_per_channel_default: quantize_per_channel_default_184, weight: quantize_per_channel_default_184_updated_constant0, scale: linear_184_scale_0, zero_point: linear_184_zero_point_0, mid: 0, low: -128, high: 127, dtype: torch.int8}), Match(anchor=dequantize_per_channel_default, nodes_map={dequantize_per_channel_default: dequantize_per_channel_default_185, quantize_per_channel_default: quantize_per_channel_default_185, weight: quantize_per_channel_default_185_updated_constant0, scale: linear_185_scale_0, zero_point: linear_185_zero_point_0, mid: 0, low: -128, high: 127, dtype: torch.int8}), Match(anchor=dequantize_per_channel_default, nodes_map={dequantize_per_channel_default: dequantize_per_channel_default_186, quantize_per_channel_default: quantize_per_channel_default_186, weight: quantize_per_channel_default_186_updated_constant0, scale: linear_186_scale_0, zero_point: linear_186_zero_point_0, mid: 0, low: -128, high: 127, dtype: torch.int8}), Match(anchor=dequantize_per_channel_default, nodes_map={dequantize_per_channel_default: dequantize_per_channel_default_187, quantize_per_channel_default: quantize_per_channel_default_187, weight: quantize_per_channel_default_187_updated_constant0, scale: linear_187_scale_0, zero_point: linear_187_zero_point_0, mid: 0, low: -128, high: 127, dtype: torch.int8}), Match(anchor=dequantize_per_channel_default, nodes_map={dequantize_per_channel_default: dequantize_per_channel_default_188, quantize_per_channel_default: quantize_per_channel_default_188, weight: quantize_per_channel_default_188_updated_constant0, scale: linear_188_scale_0, zero_point: linear_188_zero_point_0, mid: 0, low: -128, high: 127, dtype: torch.int8}), Match(anchor=dequantize_per_channel_default, nodes_map={dequantize_per_channel_default: dequantize_per_channel_default_189, quantize_per_channel_default: quantize_per_channel_default_189, weight: quantize_per_channel_default_189_updated_constant0, scale: linear_189_scale_0, zero_point: linear_189_zero_point_0, mid: 0, low: -128, high: 127, dtype: torch.int8}), Match(anchor=dequantize_per_channel_default, nodes_map={dequantize_per_channel_default: dequantize_per_channel_default_190, quantize_per_channel_default: quantize_per_channel_default_190, weight: quantize_per_channel_default_190_updated_constant0, scale: linear_190_scale_0, zero_point: linear_190_zero_point_0, mid: 0, low: -128, high: 127, dtype: torch.int8}), Match(anchor=dequantize_per_channel_default, nodes_map={dequantize_per_channel_default: dequantize_per_channel_default_191, quantize_per_channel_default: quantize_per_channel_default_191, weight: quantize_per_channel_default_191_updated_constant0, scale: linear_191_scale_0, zero_point: linear_191_zero_point_0, mid: 0, low: -128, high: 127, dtype: torch.int8}), Match(anchor=dequantize_per_channel_default, nodes_map={dequantize_per_channel_default: dequantize_per_channel_default_192, quantize_per_channel_default: quantize_per_channel_default_192, weight: quantize_per_channel_default_192_updated_constant0, scale: linear_192_scale_0, zero_point: linear_192_zero_point_0, mid: 0, low: -128, high: 127, dtype: torch.int8}), Match(anchor=dequantize_per_channel_default, nodes_map={dequantize_per_channel_default: dequantize_per_channel_default_193, quantize_per_channel_default: quantize_per_channel_default_193, weight: quantize_per_channel_default_193_updated_constant0, scale: linear_193_scale_0, zero_point: linear_193_zero_point_0, mid: 0, low: -128, high: 127, dtype: torch.int8}), Match(anchor=dequantize_per_channel_default, nodes_map={dequantize_per_channel_default: dequantize_per_channel_default_194, quantize_per_channel_default: quantize_per_channel_default_194, weight: quantize_per_channel_default_194_updated_constant0, scale: linear_194_scale_0, zero_point: linear_194_zero_point_0, mid: 0, low: -128, high: 127, dtype: torch.int8}), Match(anchor=dequantize_per_channel_default, nodes_map={dequantize_per_channel_default: dequantize_per_channel_default_195, quantize_per_channel_default: quantize_per_channel_default_195, weight: quantize_per_channel_default_195_updated_constant0, scale: linear_195_scale_0, zero_point: linear_195_zero_point_0, mid: 0, low: -128, high: 127, dtype: torch.int8}), Match(anchor=dequantize_per_channel_default, nodes_map={dequantize_per_channel_default: dequantize_per_channel_default_196, quantize_per_channel_default: quantize_per_channel_default_196, weight: quantize_per_channel_default_196_updated_constant0, scale: linear_196_scale_0, zero_point: linear_196_zero_point_0, mid: 0, low: -128, high: 127, dtype: torch.int8}), Match(anchor=dequantize_per_channel_default, nodes_map={dequantize_per_channel_default: dequantize_per_channel_default_197, quantize_per_channel_default: quantize_per_channel_default_197, weight: quantize_per_channel_default_197_updated_constant0, scale: linear_197_scale_0, zero_point: linear_197_zero_point_0, mid: 0, low: -128, high: 127, dtype: torch.int8}), Match(anchor=dequantize_per_channel_default, nodes_map={dequantize_per_channel_default: dequantize_per_channel_default_198, quantize_per_channel_default: quantize_per_channel_default_198, weight: quantize_per_channel_default_198_updated_constant0, scale: linear_198_scale_0, zero_point: linear_198_zero_point_0, mid: 0, low: -128, high: 127, dtype: torch.int8}), Match(anchor=dequantize_per_channel_default, nodes_map={dequantize_per_channel_default: dequantize_per_channel_default_199, quantize_per_channel_default: quantize_per_channel_default_199, weight: quantize_per_channel_default_199_updated_constant0, scale: linear_199_scale_0, zero_point: linear_199_zero_point_0, mid: 0, low: -128, high: 127, dtype: torch.int8}), Match(anchor=dequantize_per_channel_default, nodes_map={dequantize_per_channel_default: dequantize_per_channel_default_200, quantize_per_channel_default: quantize_per_channel_default_200, weight: quantize_per_channel_default_200_updated_constant0, scale: linear_200_scale_0, zero_point: linear_200_zero_point_0, mid: 0, low: -128, high: 127, dtype: torch.int8}), Match(anchor=dequantize_per_channel_default, nodes_map={dequantize_per_channel_default: dequantize_per_channel_default_201, quantize_per_channel_default: quantize_per_channel_default_201, weight: quantize_per_channel_default_201_updated_constant0, scale: linear_201_scale_0, zero_point: linear_201_zero_point_0, mid: 0, low: -128, high: 127, dtype: torch.int8}), Match(anchor=dequantize_per_channel_default, nodes_map={dequantize_per_channel_default: dequantize_per_channel_default_202, quantize_per_channel_default: quantize_per_channel_default_202, weight: quantize_per_channel_default_202_updated_constant0, scale: linear_202_scale_0, zero_point: linear_202_zero_point_0, mid: 0, low: -128, high: 127, dtype: torch.int8}), Match(anchor=dequantize_per_channel_default, nodes_map={dequantize_per_channel_default: dequantize_per_channel_default_203, quantize_per_channel_default: quantize_per_channel_default_203, weight: quantize_per_channel_default_203_updated_constant0, scale: linear_203_scale_0, zero_point: linear_203_zero_point_0, mid: 0, low: -128, high: 127, dtype: torch.int8}), Match(anchor=dequantize_per_channel_default, nodes_map={dequantize_per_channel_default: dequantize_per_channel_default_204, quantize_per_channel_default: quantize_per_channel_default_204, weight: quantize_per_channel_default_204_updated_constant0, scale: linear_204_scale_0, zero_point: linear_204_zero_point_0, mid: 0, low: -128, high: 127, dtype: torch.int8}), Match(anchor=dequantize_per_channel_default, nodes_map={dequantize_per_channel_default: dequantize_per_channel_default_205, quantize_per_channel_default: quantize_per_channel_default_205, weight: quantize_per_channel_default_205_updated_constant0, scale: linear_205_scale_0, zero_point: linear_205_zero_point_0, mid: 0, low: -128, high: 127, dtype: torch.int8}), Match(anchor=dequantize_per_channel_default, nodes_map={dequantize_per_channel_default: dequantize_per_channel_default_206, quantize_per_channel_default: quantize_per_channel_default_206, weight: quantize_per_channel_default_206_updated_constant0, scale: linear_206_scale_0, zero_point: linear_206_zero_point_0, mid: 0, low: -128, high: 127, dtype: torch.int8}), Match(anchor=dequantize_per_channel_default, nodes_map={dequantize_per_channel_default: dequantize_per_channel_default_207, quantize_per_channel_default: quantize_per_channel_default_207, weight: quantize_per_channel_default_207_updated_constant0, scale: linear_207_scale_0, zero_point: linear_207_zero_point_0, mid: 0, low: -128, high: 127, dtype: torch.int8}), Match(anchor=dequantize_per_channel_default, nodes_map={dequantize_per_channel_default: dequantize_per_channel_default_208, quantize_per_channel_default: quantize_per_channel_default_208, weight: quantize_per_channel_default_208_updated_constant0, scale: linear_208_scale_0, zero_point: linear_208_zero_point_0, mid: 0, low: -128, high: 127, dtype: torch.int8}), Match(anchor=dequantize_per_channel_default, nodes_map={dequantize_per_channel_default: dequantize_per_channel_default_209, quantize_per_channel_default: quantize_per_channel_default_209, weight: quantize_per_channel_default_209_updated_constant0, scale: linear_209_scale_0, zero_point: linear_209_zero_point_0, mid: 0, low: -128, high: 127, dtype: torch.int8}), Match(anchor=dequantize_per_channel_default, nodes_map={dequantize_per_channel_default: dequantize_per_channel_default_210, quantize_per_channel_default: quantize_per_channel_default_210, weight: quantize_per_channel_default_210_updated_constant0, scale: linear_210_scale_0, zero_point: linear_210_zero_point_0, mid: 0, low: -128, high: 127, dtype: torch.int8}), Match(anchor=dequantize_per_channel_default, nodes_map={dequantize_per_channel_default: dequantize_per_channel_default_211, quantize_per_channel_default: quantize_per_channel_default_211, weight: quantize_per_channel_default_211_updated_constant0, scale: linear_211_scale_0, zero_point: linear_211_zero_point_0, mid: 0, low: -128, high: 127, dtype: torch.int8}), Match(anchor=dequantize_per_channel_default, nodes_map={dequantize_per_channel_default: dequantize_per_channel_default_212, quantize_per_channel_default: quantize_per_channel_default_212, weight: quantize_per_channel_default_212_updated_constant0, scale: linear_212_scale_0, zero_point: linear_212_zero_point_0, mid: 0, low: -128, high: 127, dtype: torch.int8}), Match(anchor=dequantize_per_channel_default, nodes_map={dequantize_per_channel_default: dequantize_per_channel_default_213, quantize_per_channel_default: quantize_per_channel_default_213, weight: quantize_per_channel_default_213_updated_constant0, scale: linear_213_scale_0, zero_point: linear_213_zero_point_0, mid: 0, low: -128, high: 127, dtype: torch.int8}), Match(anchor=dequantize_per_channel_default, nodes_map={dequantize_per_channel_default: dequantize_per_channel_default_214, quantize_per_channel_default: quantize_per_channel_default_214, weight: quantize_per_channel_default_214_updated_constant0, scale: linear_214_scale_0, zero_point: linear_214_zero_point_0, mid: 0, low: -128, high: 127, dtype: torch.int8}), Match(anchor=dequantize_per_channel_default, nodes_map={dequantize_per_channel_default: dequantize_per_channel_default_215, quantize_per_channel_default: quantize_per_channel_default_215, weight: quantize_per_channel_default_215_updated_constant0, scale: linear_215_scale_0, zero_point: linear_215_zero_point_0, mid: 0, low: -128, high: 127, dtype: torch.int8}), Match(anchor=dequantize_per_channel_default, nodes_map={dequantize_per_channel_default: dequantize_per_channel_default_216, quantize_per_channel_default: quantize_per_channel_default_216, weight: quantize_per_channel_default_216_updated_constant0, scale: linear_216_scale_0, zero_point: linear_216_zero_point_0, mid: 0, low: -128, high: 127, dtype: torch.int8}), Match(anchor=dequantize_per_channel_default, nodes_map={dequantize_per_channel_default: dequantize_per_channel_default_217, quantize_per_channel_default: quantize_per_channel_default_217, weight: quantize_per_channel_default_217_updated_constant0, scale: linear_217_scale_0, zero_point: linear_217_zero_point_0, mid: 0, low: -128, high: 127, dtype: torch.int8}), Match(anchor=dequantize_per_channel_default, nodes_map={dequantize_per_channel_default: dequantize_per_channel_default_218, quantize_per_channel_default: quantize_per_channel_default_218, weight: quantize_per_channel_default_218_updated_constant0, scale: linear_218_scale_0, zero_point: linear_218_zero_point_0, mid: 0, low: -128, high: 127, dtype: torch.int8}), Match(anchor=dequantize_per_channel_default, nodes_map={dequantize_per_channel_default: dequantize_per_channel_default_219, quantize_per_channel_default: quantize_per_channel_default_219, weight: quantize_per_channel_default_219_updated_constant0, scale: linear_219_scale_0, zero_point: linear_219_zero_point_0, mid: 0, low: -128, high: 127, dtype: torch.int8}), Match(anchor=dequantize_per_channel_default, nodes_map={dequantize_per_channel_default: dequantize_per_channel_default_220, quantize_per_channel_default: quantize_per_channel_default_220, weight: quantize_per_channel_default_220_updated_constant0, scale: linear_220_scale_0, zero_point: linear_220_zero_point_0, mid: 0, low: -128, high: 127, dtype: torch.int8}), Match(anchor=dequantize_per_channel_default, nodes_map={dequantize_per_channel_default: dequantize_per_channel_default_221, quantize_per_channel_default: quantize_per_channel_default_221, weight: quantize_per_channel_default_221_updated_constant0, scale: linear_221_scale_0, zero_point: linear_221_zero_point_0, mid: 0, low: -128, high: 127, dtype: torch.int8}), Match(anchor=dequantize_per_channel_default, nodes_map={dequantize_per_channel_default: dequantize_per_channel_default_222, quantize_per_channel_default: quantize_per_channel_default_222, weight: quantize_per_channel_default_222_updated_constant0, scale: linear_222_scale_0, zero_point: linear_222_zero_point_0, mid: 0, low: -128, high: 127, dtype: torch.int8}), Match(anchor=dequantize_per_channel_default, nodes_map={dequantize_per_channel_default: dequantize_per_channel_default_223, quantize_per_channel_default: quantize_per_channel_default_223, weight: quantize_per_channel_default_223_updated_constant0, scale: linear_223_scale_0, zero_point: linear_223_zero_point_0, mid: 0, low: -128, high: 127, dtype: torch.int8}), Match(anchor=dequantize_per_channel_default, nodes_map={dequantize_per_channel_default: dequantize_per_channel_default_224, quantize_per_channel_default: quantize_per_channel_default_224, weight: quantize_per_channel_default_224_updated_constant0, scale: linear_224_scale_0, zero_point: linear_224_zero_point_0, mid: 0, low: -128, high: 127, dtype: torch.int8}), Match(anchor=dequantize_per_channel_default, nodes_map={dequantize_per_channel_default: dequantize_per_channel_default_225, quantize_per_channel_default: quantize_per_channel_default_225, weight: quantize_per_channel_default_225_updated_constant0, scale: linear_225_scale_0, zero_point: linear_225_zero_point_0, mid: 0, low: -128, high: 127, dtype: torch.int8}), Match(anchor=dequantize_per_channel_default, nodes_map={dequantize_per_channel_default: dequantize_per_channel_default_226, quantize_per_channel_default: quantize_per_channel_default_226, weight: quantize_per_channel_default_226_updated_constant0, scale: linear_226_scale_0, zero_point: linear_226_zero_point_0, mid: 0, low: -128, high: 127, dtype: torch.int8}), Match(anchor=dequantize_per_channel_default, nodes_map={dequantize_per_channel_default: dequantize_per_channel_default_227, quantize_per_channel_default: quantize_per_channel_default_227, weight: quantize_per_channel_default_227_updated_constant0, scale: linear_227_scale_0, zero_point: linear_227_zero_point_0, mid: 0, low: -128, high: 127, dtype: torch.int8}), Match(anchor=dequantize_per_channel_default, nodes_map={dequantize_per_channel_default: dequantize_per_channel_default_228, quantize_per_channel_default: quantize_per_channel_default_228, weight: quantize_per_channel_default_228_updated_constant0, scale: linear_228_scale_0, zero_point: linear_228_zero_point_0, mid: 0, low: -128, high: 127, dtype: torch.int8}), Match(anchor=dequantize_per_channel_default, nodes_map={dequantize_per_channel_default: dequantize_per_channel_default_229, quantize_per_channel_default: quantize_per_channel_default_229, weight: quantize_per_channel_default_229_updated_constant0, scale: linear_229_scale_0, zero_point: linear_229_zero_point_0, mid: 0, low: -128, high: 127, dtype: torch.int8}), Match(anchor=dequantize_per_channel_default, nodes_map={dequantize_per_channel_default: dequantize_per_channel_default_230, quantize_per_channel_default: quantize_per_channel_default_230, weight: quantize_per_channel_default_230_updated_constant0, scale: linear_230_scale_0, zero_point: linear_230_zero_point_0, mid: 0, low: -128, high: 127, dtype: torch.int8}), Match(anchor=dequantize_per_channel_default, nodes_map={dequantize_per_channel_default: dequantize_per_channel_default_231, quantize_per_channel_default: quantize_per_channel_default_231, weight: quantize_per_channel_default_231_updated_constant0, scale: linear_231_scale_0, zero_point: linear_231_zero_point_0, mid: 0, low: -128, high: 127, dtype: torch.int8}), Match(anchor=dequantize_per_channel_default, nodes_map={dequantize_per_channel_default: dequantize_per_channel_default_232, quantize_per_channel_default: quantize_per_channel_default_232, weight: quantize_per_channel_default_232_updated_constant0, scale: linear_232_scale_0, zero_point: linear_232_zero_point_0, mid: 0, low: -128, high: 127, dtype: torch.int8}), Match(anchor=dequantize_per_channel_default, nodes_map={dequantize_per_channel_default: dequantize_per_channel_default_233, quantize_per_channel_default: quantize_per_channel_default_233, weight: quantize_per_channel_default_233_updated_constant0, scale: linear_233_scale_0, zero_point: linear_233_zero_point_0, mid: 0, low: -128, high: 127, dtype: torch.int8}), Match(anchor=dequantize_per_channel_default, nodes_map={dequantize_per_channel_default: dequantize_per_channel_default_234, quantize_per_channel_default: quantize_per_channel_default_234, weight: quantize_per_channel_default_234_updated_constant0, scale: linear_234_scale_0, zero_point: linear_234_zero_point_0, mid: 0, low: -128, high: 127, dtype: torch.int8}), Match(anchor=dequantize_per_channel_default, nodes_map={dequantize_per_channel_default: dequantize_per_channel_default_235, quantize_per_channel_default: quantize_per_channel_default_235, weight: quantize_per_channel_default_235_updated_constant0, scale: linear_235_scale_0, zero_point: linear_235_zero_point_0, mid: 0, low: -128, high: 127, dtype: torch.int8}), Match(anchor=dequantize_per_channel_default, nodes_map={dequantize_per_channel_default: dequantize_per_channel_default_236, quantize_per_channel_default: quantize_per_channel_default_236, weight: quantize_per_channel_default_236_updated_constant0, scale: linear_236_scale_0, zero_point: linear_236_zero_point_0, mid: 0, low: -128, high: 127, dtype: torch.int8}), Match(anchor=dequantize_per_channel_default, nodes_map={dequantize_per_channel_default: dequantize_per_channel_default_237, quantize_per_channel_default: quantize_per_channel_default_237, weight: quantize_per_channel_default_237_updated_constant0, scale: linear_237_scale_0, zero_point: linear_237_zero_point_0, mid: 0, low: -128, high: 127, dtype: torch.int8}), Match(anchor=dequantize_per_channel_default, nodes_map={dequantize_per_channel_default: dequantize_per_channel_default_238, quantize_per_channel_default: quantize_per_channel_default_238, weight: quantize_per_channel_default_238_updated_constant0, scale: linear_238_scale_0, zero_point: linear_238_zero_point_0, mid: 0, low: -128, high: 127, dtype: torch.int8}), Match(anchor=dequantize_per_channel_default, nodes_map={dequantize_per_channel_default: dequantize_per_channel_default_239, quantize_per_channel_default: quantize_per_channel_default_239, weight: quantize_per_channel_default_239_updated_constant0, scale: linear_239_scale_0, zero_point: linear_239_zero_point_0, mid: 0, low: -128, high: 127, dtype: torch.int8}), Match(anchor=dequantize_per_channel_default, nodes_map={dequantize_per_channel_default: dequantize_per_channel_default_240, quantize_per_channel_default: quantize_per_channel_default_240, weight: quantize_per_channel_default_240_updated_constant0, scale: linear_240_scale_0, zero_point: linear_240_zero_point_0, mid: 0, low: -128, high: 127, dtype: torch.int8}), Match(anchor=dequantize_per_channel_default, nodes_map={dequantize_per_channel_default: dequantize_per_channel_default_241, quantize_per_channel_default: quantize_per_channel_default_241, weight: quantize_per_channel_default_241_updated_constant0, scale: linear_241_scale_0, zero_point: linear_241_zero_point_0, mid: 0, low: -128, high: 127, dtype: torch.int8}), Match(anchor=dequantize_per_channel_default, nodes_map={dequantize_per_channel_default: dequantize_per_channel_default_242, quantize_per_channel_default: quantize_per_channel_default_242, weight: quantize_per_channel_default_242_updated_constant0, scale: linear_242_scale_0, zero_point: linear_242_zero_point_0, mid: 0, low: -128, high: 127, dtype: torch.int8}), Match(anchor=dequantize_per_channel_default, nodes_map={dequantize_per_channel_default: dequantize_per_channel_default_243, quantize_per_channel_default: quantize_per_channel_default_243, weight: quantize_per_channel_default_243_updated_constant0, scale: linear_243_scale_0, zero_point: linear_243_zero_point_0, mid: 0, low: -128, high: 127, dtype: torch.int8}), Match(anchor=dequantize_per_channel_default, nodes_map={dequantize_per_channel_default: dequantize_per_channel_default_244, quantize_per_channel_default: quantize_per_channel_default_244, weight: quantize_per_channel_default_244_updated_constant0, scale: linear_244_scale_0, zero_point: linear_244_zero_point_0, mid: 0, low: -128, high: 127, dtype: torch.int8}), Match(anchor=dequantize_per_channel_default, nodes_map={dequantize_per_channel_default: dequantize_per_channel_default_245, quantize_per_channel_default: quantize_per_channel_default_245, weight: quantize_per_channel_default_245_updated_constant0, scale: linear_245_scale_0, zero_point: linear_245_zero_point_0, mid: 0, low: -128, high: 127, dtype: torch.int8}), Match(anchor=dequantize_per_channel_default, nodes_map={dequantize_per_channel_default: dequantize_per_channel_default_246, quantize_per_channel_default: quantize_per_channel_default_246, weight: quantize_per_channel_default_246_updated_constant0, scale: linear_246_scale_0, zero_point: linear_246_zero_point_0, mid: 0, low: -128, high: 127, dtype: torch.int8}), Match(anchor=dequantize_per_channel_default, nodes_map={dequantize_per_channel_default: dequantize_per_channel_default_247, quantize_per_channel_default: quantize_per_channel_default_247, weight: quantize_per_channel_default_247_updated_constant0, scale: linear_247_scale_0, zero_point: linear_247_zero_point_0, mid: 0, low: -128, high: 127, dtype: torch.int8}), Match(anchor=dequantize_per_channel_default, nodes_map={dequantize_per_channel_default: dequantize_per_channel_default_248, quantize_per_channel_default: quantize_per_channel_default_248, weight: quantize_per_channel_default_248_updated_constant0, scale: linear_248_scale_0, zero_point: linear_248_zero_point_0, mid: 0, low: -128, high: 127, dtype: torch.int8}), Match(anchor=dequantize_per_channel_default, nodes_map={dequantize_per_channel_default: dequantize_per_channel_default_249, quantize_per_channel_default: quantize_per_channel_default_249, weight: quantize_per_channel_default_249_updated_constant0, scale: linear_249_scale_0, zero_point: linear_249_zero_point_0, mid: 0, low: -128, high: 127, dtype: torch.int8}), Match(anchor=dequantize_per_channel_default, nodes_map={dequantize_per_channel_default: dequantize_per_channel_default_250, quantize_per_channel_default: quantize_per_channel_default_250, weight: quantize_per_channel_default_250_updated_constant0, scale: linear_250_scale_0, zero_point: linear_250_zero_point_0, mid: 0, low: -128, high: 127, dtype: torch.int8}), Match(anchor=dequantize_per_channel_default, nodes_map={dequantize_per_channel_default: dequantize_per_channel_default_251, quantize_per_channel_default: quantize_per_channel_default_251, weight: quantize_per_channel_default_251_updated_constant0, scale: linear_251_scale_0, zero_point: linear_251_zero_point_0, mid: 0, low: -128, high: 127, dtype: torch.int8}), Match(anchor=dequantize_per_channel_default, nodes_map={dequantize_per_channel_default: dequantize_per_channel_default_252, quantize_per_channel_default: quantize_per_channel_default_252, weight: quantize_per_channel_default_252_updated_constant0, scale: linear_252_scale_0, zero_point: linear_252_zero_point_0, mid: 0, low: -128, high: 127, dtype: torch.int8}), Match(anchor=dequantize_per_channel_default, nodes_map={dequantize_per_channel_default: dequantize_per_channel_default_253, quantize_per_channel_default: quantize_per_channel_default_253, weight: quantize_per_channel_default_253_updated_constant0, scale: linear_253_scale_0, zero_point: linear_253_zero_point_0, mid: 0, low: -128, high: 127, dtype: torch.int8}), Match(anchor=dequantize_per_channel_default, nodes_map={dequantize_per_channel_default: dequantize_per_channel_default_254, quantize_per_channel_default: quantize_per_channel_default_254, weight: quantize_per_channel_default_254_updated_constant0, scale: linear_254_scale_0, zero_point: linear_254_zero_point_0, mid: 0, low: -128, high: 127, dtype: torch.int8}), Match(anchor=dequantize_per_channel_default, nodes_map={dequantize_per_channel_default: dequantize_per_channel_default_255, quantize_per_channel_default: quantize_per_channel_default_255, weight: quantize_per_channel_default_255_updated_constant0, scale: linear_255_scale_0, zero_point: linear_255_zero_point_0, mid: 0, low: -128, high: 127, dtype: torch.int8}), Match(anchor=dequantize_per_channel_default, nodes_map={dequantize_per_channel_default: dequantize_per_channel_default_256, quantize_per_channel_default: quantize_per_channel_default_256, weight: quantize_per_channel_default_256_updated_constant0, scale: linear_256_scale_0, zero_point: linear_256_zero_point_0, mid: 0, low: -128, high: 127, dtype: torch.int8}), Match(anchor=dequantize_per_channel_default, nodes_map={dequantize_per_channel_default: dequantize_per_channel_default_257, quantize_per_channel_default: quantize_per_channel_default_257, weight: quantize_per_channel_default_257_updated_constant0, scale: linear_257_scale_0, zero_point: linear_257_zero_point_0, mid: 0, low: -128, high: 127, dtype: torch.int8}), Match(anchor=dequantize_per_channel_default, nodes_map={dequantize_per_channel_default: dequantize_per_channel_default_258, quantize_per_channel_default: quantize_per_channel_default_258, weight: quantize_per_channel_default_258_updated_constant0, scale: linear_258_scale_0, zero_point: linear_258_zero_point_0, mid: 0, low: -128, high: 127, dtype: torch.int8}), Match(anchor=dequantize_per_channel_default, nodes_map={dequantize_per_channel_default: dequantize_per_channel_default_259, quantize_per_channel_default: quantize_per_channel_default_259, weight: quantize_per_channel_default_259_updated_constant0, scale: linear_259_scale_0, zero_point: linear_259_zero_point_0, mid: 0, low: -128, high: 127, dtype: torch.int8}), Match(anchor=dequantize_per_channel_default, nodes_map={dequantize_per_channel_default: dequantize_per_channel_default_260, quantize_per_channel_default: quantize_per_channel_default_260, weight: quantize_per_channel_default_260_updated_constant0, scale: linear_260_scale_0, zero_point: linear_260_zero_point_0, mid: 0, low: -128, high: 127, dtype: torch.int8}), Match(anchor=dequantize_per_channel_default, nodes_map={dequantize_per_channel_default: dequantize_per_channel_default_261, quantize_per_channel_default: quantize_per_channel_default_261, weight: quantize_per_channel_default_261_updated_constant0, scale: linear_261_scale_0, zero_point: linear_261_zero_point_0, mid: 0, low: -128, high: 127, dtype: torch.int8}), Match(anchor=dequantize_per_channel_default, nodes_map={dequantize_per_channel_default: dequantize_per_channel_default_262, quantize_per_channel_default: quantize_per_channel_default_262, weight: quantize_per_channel_default_262_updated_constant0, scale: linear_262_scale_0, zero_point: linear_262_zero_point_0, mid: 0, low: -128, high: 127, dtype: torch.int8}), Match(anchor=dequantize_per_channel_default, nodes_map={dequantize_per_channel_default: dequantize_per_channel_default_263, quantize_per_channel_default: quantize_per_channel_default_263, weight: quantize_per_channel_default_263_updated_constant0, scale: linear_263_scale_0, zero_point: linear_263_zero_point_0, mid: 0, low: -128, high: 127, dtype: torch.int8}), Match(anchor=dequantize_per_channel_default, nodes_map={dequantize_per_channel_default: dequantize_per_channel_default_264, quantize_per_channel_default: quantize_per_channel_default_264, weight: quantize_per_channel_default_264_updated_constant0, scale: linear_264_scale_0, zero_point: linear_264_zero_point_0, mid: 0, low: -128, high: 127, dtype: torch.int8}), Match(anchor=dequantize_per_channel_default, nodes_map={dequantize_per_channel_default: dequantize_per_channel_default_265, quantize_per_channel_default: quantize_per_channel_default_265, weight: quantize_per_channel_default_265_updated_constant0, scale: linear_265_scale_0, zero_point: linear_265_zero_point_0, mid: 0, low: -128, high: 127, dtype: torch.int8}), Match(anchor=dequantize_per_channel_default, nodes_map={dequantize_per_channel_default: dequantize_per_channel_default_266, quantize_per_channel_default: quantize_per_channel_default_266, weight: quantize_per_channel_default_266_updated_constant0, scale: linear_266_scale_0, zero_point: linear_266_zero_point_0, mid: 0, low: -128, high: 127, dtype: torch.int8}), Match(anchor=dequantize_per_channel_default, nodes_map={dequantize_per_channel_default: dequantize_per_channel_default_267, quantize_per_channel_default: quantize_per_channel_default_267, weight: quantize_per_channel_default_267_updated_constant0, scale: linear_267_scale_0, zero_point: linear_267_zero_point_0, mid: 0, low: -128, high: 127, dtype: torch.int8}), Match(anchor=dequantize_per_channel_default, nodes_map={dequantize_per_channel_default: dequantize_per_channel_default_268, quantize_per_channel_default: quantize_per_channel_default_268, weight: quantize_per_channel_default_268_updated_constant0, scale: linear_268_scale_0, zero_point: linear_268_zero_point_0, mid: 0, low: -128, high: 127, dtype: torch.int8}), Match(anchor=dequantize_per_channel_default, nodes_map={dequantize_per_channel_default: dequantize_per_channel_default_269, quantize_per_channel_default: quantize_per_channel_default_269, weight: quantize_per_channel_default_269_updated_constant0, scale: linear_269_scale_0, zero_point: linear_269_zero_point_0, mid: 0, low: -128, high: 127, dtype: torch.int8}), Match(anchor=dequantize_per_channel_default, nodes_map={dequantize_per_channel_default: dequantize_per_channel_default_270, quantize_per_channel_default: quantize_per_channel_default_270, weight: quantize_per_channel_default_270_updated_constant0, scale: linear_270_scale_0, zero_point: linear_270_zero_point_0, mid: 0, low: -128, high: 127, dtype: torch.int8}), Match(anchor=dequantize_per_channel_default, nodes_map={dequantize_per_channel_default: dequantize_per_channel_default_271, quantize_per_channel_default: quantize_per_channel_default_271, weight: quantize_per_channel_default_271_updated_constant0, scale: linear_271_scale_0, zero_point: linear_271_zero_point_0, mid: 0, low: -128, high: 127, dtype: torch.int8}), Match(anchor=dequantize_per_channel_default, nodes_map={dequantize_per_channel_default: dequantize_per_channel_default_272, quantize_per_channel_default: quantize_per_channel_default_272, weight: quantize_per_channel_default_272_updated_constant0, scale: linear_272_scale_0, zero_point: linear_272_zero_point_0, mid: 0, low: -128, high: 127, dtype: torch.int8}), Match(anchor=dequantize_per_channel_default, nodes_map={dequantize_per_channel_default: dequantize_per_channel_default_273, quantize_per_channel_default: quantize_per_channel_default_273, weight: quantize_per_channel_default_273_updated_constant0, scale: linear_273_scale_0, zero_point: linear_273_zero_point_0, mid: 0, low: -128, high: 127, dtype: torch.int8}), Match(anchor=dequantize_per_channel_default, nodes_map={dequantize_per_channel_default: dequantize_per_channel_default_274, quantize_per_channel_default: quantize_per_channel_default_274, weight: quantize_per_channel_default_274_updated_constant0, scale: linear_274_scale_0, zero_point: linear_274_zero_point_0, mid: 0, low: -128, high: 127, dtype: torch.int8}), Match(anchor=dequantize_per_channel_default, nodes_map={dequantize_per_channel_default: dequantize_per_channel_default_275, quantize_per_channel_default: quantize_per_channel_default_275, weight: quantize_per_channel_default_275_updated_constant0, scale: linear_275_scale_0, zero_point: linear_275_zero_point_0, mid: 0, low: -128, high: 127, dtype: torch.int8}), Match(anchor=dequantize_per_channel_default, nodes_map={dequantize_per_channel_default: dequantize_per_channel_default_276, quantize_per_channel_default: quantize_per_channel_default_276, weight: quantize_per_channel_default_276_updated_constant0, scale: linear_276_scale_0, zero_point: linear_276_zero_point_0, mid: 0, low: -128, high: 127, dtype: torch.int8}), Match(anchor=dequantize_per_channel_default, nodes_map={dequantize_per_channel_default: dequantize_per_channel_default_277, quantize_per_channel_default: quantize_per_channel_default_277, weight: quantize_per_channel_default_277_updated_constant0, scale: linear_277_scale_0, zero_point: linear_277_zero_point_0, mid: 0, low: -128, high: 127, dtype: torch.int8}), Match(anchor=dequantize_per_channel_default, nodes_map={dequantize_per_channel_default: dequantize_per_channel_default_278, quantize_per_channel_default: quantize_per_channel_default_278, weight: quantize_per_channel_default_278_updated_constant0, scale: linear_278_scale_0, zero_point: linear_278_zero_point_0, mid: 0, low: -128, high: 127, dtype: torch.int8}), Match(anchor=dequantize_per_channel_default, nodes_map={dequantize_per_channel_default: dequantize_per_channel_default_279, quantize_per_channel_default: quantize_per_channel_default_279, weight: quantize_per_channel_default_279_updated_constant0, scale: linear_279_scale_0, zero_point: linear_279_zero_point_0, mid: 0, low: -128, high: 127, dtype: torch.int8}), Match(anchor=dequantize_per_channel_default, nodes_map={dequantize_per_channel_default: dequantize_per_channel_default_280, quantize_per_channel_default: quantize_per_channel_default_280, weight: quantize_per_channel_default_280_updated_constant0, scale: linear_280_scale_0, zero_point: linear_280_zero_point_0, mid: 0, low: -128, high: 127, dtype: torch.int8}), Match(anchor=dequantize_per_channel_default, nodes_map={dequantize_per_channel_default: dequantize_per_channel_default_281, quantize_per_channel_default: quantize_per_channel_default_281, weight: quantize_per_channel_default_281_updated_constant0, scale: linear_281_scale_0, zero_point: linear_281_zero_point_0, mid: 0, low: -128, high: 127, dtype: torch.int8}), Match(anchor=dequantize_per_channel_default, nodes_map={dequantize_per_channel_default: dequantize_per_channel_default_282, quantize_per_channel_default: quantize_per_channel_default_282, weight: quantize_per_channel_default_282_updated_constant0, scale: linear_282_scale_0, zero_point: linear_282_zero_point_0, mid: 0, low: -128, high: 127, dtype: torch.int8}), Match(anchor=dequantize_per_channel_default, nodes_map={dequantize_per_channel_default: dequantize_per_channel_default_283, quantize_per_channel_default: quantize_per_channel_default_283, weight: quantize_per_channel_default_283_updated_constant0, scale: linear_283_scale_0, zero_point: linear_283_zero_point_0, mid: 0, low: -128, high: 127, dtype: torch.int8}), Match(anchor=dequantize_per_channel_default, nodes_map={dequantize_per_channel_default: dequantize_per_channel_default_284, quantize_per_channel_default: quantize_per_channel_default_284, weight: quantize_per_channel_default_284_updated_constant0, scale: linear_284_scale_0, zero_point: linear_284_zero_point_0, mid: 0, low: -128, high: 127, dtype: torch.int8}), Match(anchor=dequantize_per_channel_default, nodes_map={dequantize_per_channel_default: dequantize_per_channel_default_285, quantize_per_channel_default: quantize_per_channel_default_285, weight: quantize_per_channel_default_285_updated_constant0, scale: linear_285_scale_0, zero_point: linear_285_zero_point_0, mid: 0, low: -128, high: 127, dtype: torch.int8}), Match(anchor=dequantize_per_channel_default, nodes_map={dequantize_per_channel_default: dequantize_per_channel_default_286, quantize_per_channel_default: quantize_per_channel_default_286, weight: quantize_per_channel_default_286_updated_constant0, scale: linear_286_scale_0, zero_point: linear_286_zero_point_0, mid: 0, low: -128, high: 127, dtype: torch.int8}), Match(anchor=dequantize_per_channel_default, nodes_map={dequantize_per_channel_default: dequantize_per_channel_default_287, quantize_per_channel_default: quantize_per_channel_default_287, weight: quantize_per_channel_default_287_updated_constant0, scale: linear_287_scale_0, zero_point: linear_287_zero_point_0, mid: 0, low: -128, high: 127, dtype: torch.int8}), Match(anchor=dequantize_per_channel_default, nodes_map={dequantize_per_channel_default: dequantize_per_channel_default_288, quantize_per_channel_default: quantize_per_channel_default_288, weight: quantize_per_channel_default_288_updated_constant0, scale: linear_288_scale_0, zero_point: linear_288_zero_point_0, mid: 0, low: -128, high: 127, dtype: torch.int8}), Match(anchor=dequantize_per_channel_default, nodes_map={dequantize_per_channel_default: dequantize_per_channel_default_289, quantize_per_channel_default: quantize_per_channel_default_289, weight: quantize_per_channel_default_289_updated_constant0, scale: linear_289_scale_0, zero_point: linear_289_zero_point_0, mid: 0, low: -128, high: 127, dtype: torch.int8}), Match(anchor=dequantize_per_channel_default, nodes_map={dequantize_per_channel_default: dequantize_per_channel_default_290, quantize_per_channel_default: quantize_per_channel_default_290, weight: quantize_per_channel_default_290_updated_constant0, scale: linear_290_scale_0, zero_point: linear_290_zero_point_0, mid: 0, low: -128, high: 127, dtype: torch.int8}), Match(anchor=dequantize_per_channel_default, nodes_map={dequantize_per_channel_default: dequantize_per_channel_default_291, quantize_per_channel_default: quantize_per_channel_default_291, weight: quantize_per_channel_default_291_updated_constant0, scale: linear_291_scale_0, zero_point: linear_291_zero_point_0, mid: 0, low: -128, high: 127, dtype: torch.int8}), Match(anchor=dequantize_per_channel_default, nodes_map={dequantize_per_channel_default: dequantize_per_channel_default_292, quantize_per_channel_default: quantize_per_channel_default_292, weight: quantize_per_channel_default_292_updated_constant0, scale: linear_292_scale_0, zero_point: linear_292_zero_point_0, mid: 0, low: -128, high: 127, dtype: torch.int8}), Match(anchor=dequantize_per_channel_default, nodes_map={dequantize_per_channel_default: dequantize_per_channel_default_293, quantize_per_channel_default: quantize_per_channel_default_293, weight: quantize_per_channel_default_293_updated_constant0, scale: linear_293_scale_0, zero_point: linear_293_zero_point_0, mid: 0, low: -128, high: 127, dtype: torch.int8}), Match(anchor=dequantize_per_channel_default, nodes_map={dequantize_per_channel_default: dequantize_per_channel_default_294, quantize_per_channel_default: quantize_per_channel_default_294, weight: quantize_per_channel_default_294_updated_constant0, scale: linear_294_scale_0, zero_point: linear_294_zero_point_0, mid: 0, low: -128, high: 127, dtype: torch.int8}), Match(anchor=dequantize_per_channel_default, nodes_map={dequantize_per_channel_default: dequantize_per_channel_default_295, quantize_per_channel_default: quantize_per_channel_default_295, weight: quantize_per_channel_default_295_updated_constant0, scale: linear_295_scale_0, zero_point: linear_295_zero_point_0, mid: 0, low: -128, high: 127, dtype: torch.int8}), Match(anchor=dequantize_per_channel_default, nodes_map={dequantize_per_channel_default: dequantize_per_channel_default_296, quantize_per_channel_default: quantize_per_channel_default_296, weight: quantize_per_channel_default_296_updated_constant0, scale: linear_296_scale_0, zero_point: linear_296_zero_point_0, mid: 0, low: -128, high: 127, dtype: torch.int8}), Match(anchor=dequantize_per_channel_default, nodes_map={dequantize_per_channel_default: dequantize_per_channel_default_297, quantize_per_channel_default: quantize_per_channel_default_297, weight: quantize_per_channel_default_297_updated_constant0, scale: linear_297_scale_0, zero_point: linear_297_zero_point_0, mid: 0, low: -128, high: 127, dtype: torch.int8}), Match(anchor=dequantize_per_channel_default, nodes_map={dequantize_per_channel_default: dequantize_per_channel_default_298, quantize_per_channel_default: quantize_per_channel_default_298, weight: quantize_per_channel_default_298_updated_constant0, scale: linear_298_scale_0, zero_point: linear_298_zero_point_0, mid: 0, low: -128, high: 127, dtype: torch.int8}), Match(anchor=dequantize_per_channel_default, nodes_map={dequantize_per_channel_default: dequantize_per_channel_default_299, quantize_per_channel_default: quantize_per_channel_default_299, weight: quantize_per_channel_default_299_updated_constant0, scale: linear_299_scale_0, zero_point: linear_299_zero_point_0, mid: 0, low: -128, high: 127, dtype: torch.int8}), Match(anchor=dequantize_per_channel_default, nodes_map={dequantize_per_channel_default: dequantize_per_channel_default_300, quantize_per_channel_default: quantize_per_channel_default_300, weight: quantize_per_channel_default_300_updated_constant0, scale: linear_300_scale_0, zero_point: linear_300_zero_point_0, mid: 0, low: -128, high: 127, dtype: torch.int8}), Match(anchor=dequantize_per_channel_default, nodes_map={dequantize_per_channel_default: dequantize_per_channel_default_301, quantize_per_channel_default: quantize_per_channel_default_301, weight: quantize_per_channel_default_301_updated_constant0, scale: linear_301_scale_0, zero_point: linear_301_zero_point_0, mid: 0, low: -128, high: 127, dtype: torch.int8}), Match(anchor=dequantize_per_channel_default, nodes_map={dequantize_per_channel_default: dequantize_per_channel_default_302, quantize_per_channel_default: quantize_per_channel_default_302, weight: quantize_per_channel_default_302_updated_constant0, scale: linear_302_scale_0, zero_point: linear_302_zero_point_0, mid: 0, low: -128, high: 127, dtype: torch.int8}), Match(anchor=dequantize_per_channel_default, nodes_map={dequantize_per_channel_default: dequantize_per_channel_default_303, quantize_per_channel_default: quantize_per_channel_default_303, weight: quantize_per_channel_default_303_updated_constant0, scale: linear_303_scale_0, zero_point: linear_303_zero_point_0, mid: 0, low: -128, high: 127, dtype: torch.int8}), Match(anchor=dequantize_per_channel_default, nodes_map={dequantize_per_channel_default: dequantize_per_channel_default_304, quantize_per_channel_default: quantize_per_channel_default_304, weight: quantize_per_channel_default_304_updated_constant0, scale: linear_304_scale_0, zero_point: linear_304_zero_point_0, mid: 0, low: -128, high: 127, dtype: torch.int8}), Match(anchor=dequantize_per_channel_default, nodes_map={dequantize_per_channel_default: dequantize_per_channel_default_305, quantize_per_channel_default: quantize_per_channel_default_305, weight: quantize_per_channel_default_305_updated_constant0, scale: linear_305_scale_0, zero_point: linear_305_zero_point_0, mid: 0, low: -128, high: 127, dtype: torch.int8}), Match(anchor=dequantize_per_channel_default, nodes_map={dequantize_per_channel_default: dequantize_per_channel_default_306, quantize_per_channel_default: quantize_per_channel_default_306, weight: quantize_per_channel_default_306_updated_constant0, scale: linear_306_scale_0, zero_point: linear_306_zero_point_0, mid: 0, low: -128, high: 127, dtype: torch.int8}), Match(anchor=dequantize_per_channel_default, nodes_map={dequantize_per_channel_default: dequantize_per_channel_default_307, quantize_per_channel_default: quantize_per_channel_default_307, weight: quantize_per_channel_default_307_updated_constant0, scale: linear_307_scale_0, zero_point: linear_307_zero_point_0, mid: 0, low: -128, high: 127, dtype: torch.int8}), Match(anchor=dequantize_per_channel_default, nodes_map={dequantize_per_channel_default: dequantize_per_channel_default_308, quantize_per_channel_default: quantize_per_channel_default_308, weight: quantize_per_channel_default_308_updated_constant0, scale: linear_308_scale_0, zero_point: linear_308_zero_point_0, mid: 0, low: -128, high: 127, dtype: torch.int8}), Match(anchor=dequantize_per_channel_default, nodes_map={dequantize_per_channel_default: dequantize_per_channel_default_309, quantize_per_channel_default: quantize_per_channel_default_309, weight: quantize_per_channel_default_309_updated_constant0, scale: linear_309_scale_0, zero_point: linear_309_zero_point_0, mid: 0, low: -128, high: 127, dtype: torch.int8}), Match(anchor=dequantize_per_channel_default, nodes_map={dequantize_per_channel_default: dequantize_per_channel_default_310, quantize_per_channel_default: quantize_per_channel_default_310, weight: quantize_per_channel_default_310_updated_constant0, scale: linear_310_scale_0, zero_point: linear_310_zero_point_0, mid: 0, low: -128, high: 127, dtype: torch.int8}), Match(anchor=dequantize_per_channel_default, nodes_map={dequantize_per_channel_default: dequantize_per_channel_default_311, quantize_per_channel_default: quantize_per_channel_default_311, weight: quantize_per_channel_default_311_updated_constant0, scale: linear_311_scale_0, zero_point: linear_311_zero_point_0, mid: 0, low: -128, high: 127, dtype: torch.int8}), Match(anchor=dequantize_per_channel_default, nodes_map={dequantize_per_channel_default: dequantize_per_channel_default_312, quantize_per_channel_default: quantize_per_channel_default_312, weight: quantize_per_channel_default_312_updated_constant0, scale: linear_312_scale_0, zero_point: linear_312_zero_point_0, mid: 0, low: -128, high: 127, dtype: torch.int8}), Match(anchor=dequantize_per_channel_default, nodes_map={dequantize_per_channel_default: dequantize_per_channel_default_313, quantize_per_channel_default: quantize_per_channel_default_313, weight: quantize_per_channel_default_313_updated_constant0, scale: linear_313_scale_0, zero_point: linear_313_zero_point_0, mid: 0, low: -128, high: 127, dtype: torch.int8}), Match(anchor=dequantize_per_channel_default, nodes_map={dequantize_per_channel_default: dequantize_per_channel_default_314, quantize_per_channel_default: quantize_per_channel_default_314, weight: quantize_per_channel_default_314_updated_constant0, scale: linear_314_scale_0, zero_point: linear_314_zero_point_0, mid: 0, low: -128, high: 127, dtype: torch.int8}), Match(anchor=dequantize_per_channel_default, nodes_map={dequantize_per_channel_default: dequantize_per_channel_default_315, quantize_per_channel_default: quantize_per_channel_default_315, weight: quantize_per_channel_default_315_updated_constant0, scale: linear_315_scale_0, zero_point: linear_315_zero_point_0, mid: 0, low: -128, high: 127, dtype: torch.int8}), Match(anchor=dequantize_per_channel_default, nodes_map={dequantize_per_channel_default: dequantize_per_channel_default_316, quantize_per_channel_default: quantize_per_channel_default_316, weight: quantize_per_channel_default_316_updated_constant0, scale: linear_316_scale_0, zero_point: linear_316_zero_point_0, mid: 0, low: -128, high: 127, dtype: torch.int8}), Match(anchor=dequantize_per_channel_default, nodes_map={dequantize_per_channel_default: dequantize_per_channel_default_317, quantize_per_channel_default: quantize_per_channel_default_317, weight: quantize_per_channel_default_317_updated_constant0, scale: linear_317_scale_0, zero_point: linear_317_zero_point_0, mid: 0, low: -128, high: 127, dtype: torch.int8}), Match(anchor=dequantize_per_channel_default, nodes_map={dequantize_per_channel_default: dequantize_per_channel_default_318, quantize_per_channel_default: quantize_per_channel_default_318, weight: quantize_per_channel_default_318_updated_constant0, scale: linear_318_scale_0, zero_point: linear_318_zero_point_0, mid: 0, low: -128, high: 127, dtype: torch.int8}), Match(anchor=dequantize_per_channel_default, nodes_map={dequantize_per_channel_default: dequantize_per_channel_default_319, quantize_per_channel_default: quantize_per_channel_default_319, weight: quantize_per_channel_default_319_updated_constant0, scale: linear_319_scale_0, zero_point: linear_319_zero_point_0, mid: 0, low: -128, high: 127, dtype: torch.int8}), Match(anchor=dequantize_per_channel_default, nodes_map={dequantize_per_channel_default: dequantize_per_channel_default_320, quantize_per_channel_default: quantize_per_channel_default_320, weight: quantize_per_channel_default_320_updated_constant0, scale: linear_320_scale_0, zero_point: linear_320_zero_point_0, mid: 0, low: -128, high: 127, dtype: torch.int8}), Match(anchor=dequantize_per_channel_default, nodes_map={dequantize_per_channel_default: dequantize_per_channel_default_321, quantize_per_channel_default: quantize_per_channel_default_321, weight: quantize_per_channel_default_321_updated_constant0, scale: linear_321_scale_0, zero_point: linear_321_zero_point_0, mid: 0, low: -128, high: 127, dtype: torch.int8}), Match(anchor=dequantize_per_channel_default, nodes_map={dequantize_per_channel_default: dequantize_per_channel_default_322, quantize_per_channel_default: quantize_per_channel_default_322, weight: quantize_per_channel_default_322_updated_constant0, scale: linear_322_scale_0, zero_point: linear_322_zero_point_0, mid: 0, low: -128, high: 127, dtype: torch.int8}), Match(anchor=dequantize_per_channel_default, nodes_map={dequantize_per_channel_default: dequantize_per_channel_default_323, quantize_per_channel_default: quantize_per_channel_default_323, weight: quantize_per_channel_default_323_updated_constant0, scale: linear_323_scale_0, zero_point: linear_323_zero_point_0, mid: 0, low: -128, high: 127, dtype: torch.int8}), Match(anchor=dequantize_per_channel_default, nodes_map={dequantize_per_channel_default: dequantize_per_channel_default_324, quantize_per_channel_default: quantize_per_channel_default_324, weight: quantize_per_channel_default_324_updated_constant0, scale: linear_324_scale_0, zero_point: linear_324_zero_point_0, mid: 0, low: -128, high: 127, dtype: torch.int8}), Match(anchor=dequantize_per_channel_default, nodes_map={dequantize_per_channel_default: dequantize_per_channel_default_325, quantize_per_channel_default: quantize_per_channel_default_325, weight: quantize_per_channel_default_325_updated_constant0, scale: linear_325_scale_0, zero_point: linear_325_zero_point_0, mid: 0, low: -128, high: 127, dtype: torch.int8}), Match(anchor=dequantize_per_channel_default, nodes_map={dequantize_per_channel_default: dequantize_per_channel_default_326, quantize_per_channel_default: quantize_per_channel_default_326, weight: quantize_per_channel_default_326_updated_constant0, scale: linear_326_scale_0, zero_point: linear_326_zero_point_0, mid: 0, low: -128, high: 127, dtype: torch.int8}), Match(anchor=dequantize_per_channel_default, nodes_map={dequantize_per_channel_default: dequantize_per_channel_default_327, quantize_per_channel_default: quantize_per_channel_default_327, weight: quantize_per_channel_default_327_updated_constant0, scale: linear_327_scale_0, zero_point: linear_327_zero_point_0, mid: 0, low: -128, high: 127, dtype: torch.int8}), Match(anchor=dequantize_per_channel_default, nodes_map={dequantize_per_channel_default: dequantize_per_channel_default_328, quantize_per_channel_default: quantize_per_channel_default_328, weight: quantize_per_channel_default_328_updated_constant0, scale: linear_328_scale_0, zero_point: linear_328_zero_point_0, mid: 0, low: -128, high: 127, dtype: torch.int8}), Match(anchor=dequantize_per_channel_default, nodes_map={dequantize_per_channel_default: dequantize_per_channel_default_329, quantize_per_channel_default: quantize_per_channel_default_329, weight: quantize_per_channel_default_329_updated_constant0, scale: linear_329_scale_0, zero_point: linear_329_zero_point_0, mid: 0, low: -128, high: 127, dtype: torch.int8}), Match(anchor=dequantize_per_channel_default, nodes_map={dequantize_per_channel_default: dequantize_per_channel_default_330, quantize_per_channel_default: quantize_per_channel_default_330, weight: quantize_per_channel_default_330_updated_constant0, scale: linear_330_scale_0, zero_point: linear_330_zero_point_0, mid: 0, low: -128, high: 127, dtype: torch.int8}), Match(anchor=dequantize_per_channel_default, nodes_map={dequantize_per_channel_default: dequantize_per_channel_default_331, quantize_per_channel_default: quantize_per_channel_default_331, weight: quantize_per_channel_default_331_updated_constant0, scale: linear_331_scale_0, zero_point: linear_331_zero_point_0, mid: 0, low: -128, high: 127, dtype: torch.int8}), Match(anchor=dequantize_per_channel_default, nodes_map={dequantize_per_channel_default: dequantize_per_channel_default_332, quantize_per_channel_default: quantize_per_channel_default_332, weight: quantize_per_channel_default_332_updated_constant0, scale: linear_332_scale_0, zero_point: linear_332_zero_point_0, mid: 0, low: -128, high: 127, dtype: torch.int8}), Match(anchor=dequantize_per_channel_default, nodes_map={dequantize_per_channel_default: dequantize_per_channel_default_333, quantize_per_channel_default: quantize_per_channel_default_333, weight: quantize_per_channel_default_333_updated_constant0, scale: linear_333_scale_0, zero_point: linear_333_zero_point_0, mid: 0, low: -128, high: 127, dtype: torch.int8}), Match(anchor=dequantize_per_channel_default, nodes_map={dequantize_per_channel_default: dequantize_per_channel_default_334, quantize_per_channel_default: quantize_per_channel_default_334, weight: quantize_per_channel_default_334_updated_constant0, scale: linear_334_scale_0, zero_point: linear_334_zero_point_0, mid: 0, low: -128, high: 127, dtype: torch.int8}), Match(anchor=dequantize_per_channel_default, nodes_map={dequantize_per_channel_default: dequantize_per_channel_default_335, quantize_per_channel_default: quantize_per_channel_default_335, weight: quantize_per_channel_default_335_updated_constant0, scale: linear_335_scale_0, zero_point: linear_335_zero_point_0, mid: 0, low: -128, high: 127, dtype: torch.int8}), Match(anchor=dequantize_per_channel_default, nodes_map={dequantize_per_channel_default: dequantize_per_channel_default_336, quantize_per_channel_default: quantize_per_channel_default_336, weight: quantize_per_channel_default_336_updated_constant0, scale: linear_336_scale_0, zero_point: linear_336_zero_point_0, mid: 0, low: -128, high: 127, dtype: torch.int8}), Match(anchor=dequantize_per_channel_default, nodes_map={dequantize_per_channel_default: dequantize_per_channel_default_337, quantize_per_channel_default: quantize_per_channel_default_337, weight: quantize_per_channel_default_337_updated_constant0, scale: linear_337_scale_0, zero_point: linear_337_zero_point_0, mid: 0, low: -128, high: 127, dtype: torch.int8}), Match(anchor=dequantize_per_channel_default, nodes_map={dequantize_per_channel_default: dequantize_per_channel_default_338, quantize_per_channel_default: quantize_per_channel_default_338, weight: quantize_per_channel_default_338_updated_constant0, scale: linear_338_scale_0, zero_point: linear_338_zero_point_0, mid: 0, low: -128, high: 127, dtype: torch.int8}), Match(anchor=dequantize_per_channel_default, nodes_map={dequantize_per_channel_default: dequantize_per_channel_default_339, quantize_per_channel_default: quantize_per_channel_default_339, weight: quantize_per_channel_default_339_updated_constant0, scale: linear_339_scale_0, zero_point: linear_339_zero_point_0, mid: 0, low: -128, high: 127, dtype: torch.int8})]\n"
     ]
    }
   ],
   "source": [
    "def pattern(weight, scale, zero_point, mid, low, high, dtype):\n",
    "    quantized = torch.ops.quantized_decomposed.quantize_per_channel.default(\n",
    "        weight, scale, zero_point, mid, low, high, dtype\n",
    "    )\n",
    "    dequantized = torch.ops.quantized_decomposed.dequantize_per_channel.default(\n",
    "        quantized, scale, zero_point, mid, low, high, dtype\n",
    "    )\n",
    "    return dequantized\n",
    "\n",
    "def replacement(x, scale, zero_point, mid, low, high, dtype):\n",
    "    return torch.mul(x, torch.unsqueeze(scale, 1))\n",
    "\n",
    "def constant_compression_transformation(model: torch.fx.GraphModule, pattern, replacement):\n",
    "     print(torch.fx.subgraph_rewriter.replace_pattern(model, pattern, replacement))\n",
    "     return model\n",
    "\n",
    "with disable_patching():\n",
    "    # compressed_model = create_int8_constant(quantized_transformer)\n",
    "    compressed_model = constant_compression_transformation(comp_model, pattern, replacement)\n",
    "    compressed_model.graph.eliminate_dead_code()\n",
    "    compressed_model.recompile()\n"
   ]
  },
  {
   "cell_type": "code",
   "execution_count": 23,
   "metadata": {},
   "outputs": [],
   "source": [
    "pipe.text_encoder = torch.compile(text_encoder, backend='openvino')\n",
    "pipe.text_encoder_2 = torch.compile(text_encoder_2, backend='openvino')\n",
    "pipe.vae.encoder = torch.compile(vae_encoder, backend='openvino')\n",
    "pipe.vae.decoder = torch.compile(vae_decoder, backend='openvino')\n",
    "pipe.transformer = torch.compile(compressed_model, backend='openvino')"
   ]
  },
  {
   "cell_type": "markdown",
   "metadata": {},
   "source": [
    "### Inference for Compilation"
   ]
  },
  {
   "cell_type": "code",
   "execution_count": 25,
   "metadata": {},
   "outputs": [
    {
     "data": {
      "application/vnd.jupyter.widget-view+json": {
       "model_id": "5f36cbfc35e849768a0ce0d3ed638b89",
       "version_major": 2,
       "version_minor": 0
      },
      "text/plain": [
       "  0%|          | 0/1 [00:00<?, ?it/s]"
      ]
     },
     "metadata": {},
     "output_type": "display_data"
    }
   ],
   "source": [
    "#Warmup the model for initial compile\n",
    "prompt = \"valley in the Alps at sunset, epic vista, beautiful landscape, 4k, 8k\"\n",
    "negative_prompt = \"frames, borderline, text, charachter, duplicate, error, out of frame, watermark, low quality, ugly, deformed, blur\"\n",
    "num_steps = 1\n",
    "with torch.no_grad():\n",
    "    image = pipe(prompt=prompt, negative_prompt='', num_inference_steps=num_steps, generator=generator).images[0]"
   ]
  },
  {
   "cell_type": "code",
   "execution_count": 27,
   "metadata": {},
   "outputs": [
    {
     "data": {
      "application/vnd.jupyter.widget-view+json": {
       "model_id": "97f2300fc9964119a8c288a0f3bdadb5",
       "version_major": 2,
       "version_minor": 0
      },
      "text/plain": [
       "  0%|          | 0/28 [00:00<?, ?it/s]"
      ]
     },
     "metadata": {},
     "output_type": "display_data"
    }
   ],
   "source": [
    "seed = 42\n",
    "torch.manual_seed(seed)\n",
    "random.seed(seed)\n",
    "np.random.seed(seed)\n",
    "generator = torch.Generator(device=\"cpu\").manual_seed(seed)\n",
    "latents = np.random.randn(1, 16, 128, 128).astype(np.float32)\n",
    "latents = torch.from_numpy(latents).to(\"cpu\")\n",
    "prompt = \"valley in the Alps at sunset, epic vista, beautiful landscape, 4k, 8k\"\n",
    "# prompt = 'A raccoon trapped inside a glass jar full of colorful candies, the background is steamy with vivid colors'\n",
    "with torch.no_grad():\n",
    "    image = pipe(prompt=prompt, negative_prompt='', num_inference_steps=28, generator=generator, guidance_scale=5, latents=latents).images[0]\n",
    "image.show()\n",
    "image.save(\"stable_diffusion_3_unet_compressed_compiled_prompt1.png\")"
   ]
  },
  {
   "cell_type": "code",
   "execution_count": 33,
   "metadata": {},
   "outputs": [],
   "source": [
    "from nncf.common.factory import NNCFGraphFactory\n",
    "NNCFGraphFactory.create(quantized_transformer).visualize_graph('graph.dot')"
   ]
  },
  {
   "cell_type": "code",
   "execution_count": null,
   "metadata": {},
   "outputs": [],
   "source": [
    "count = 0\n",
    "for node in comp_model.graph.nodes:\n",
    "    if node.op == 'get_attr':\n",
    "        node_value = getattr(comp_model, node.target)\n",
    "        if node.name == 'linear_13_updated_constant0':\n",
    "            print(node_value.dtype, node_value.shape)\n",
    "\n",
    "print(count)"
   ]
  },
  {
   "cell_type": "code",
   "execution_count": 24,
   "metadata": {},
   "outputs": [
    {
     "name": "stdout",
     "output_type": "stream",
     "text": [
      "Transformer Size:\n",
      "2162.203857421875\n",
      "Pipeline Size:\n"
     ]
    },
    {
     "data": {
      "text/plain": [
       "3026.265887260437"
      ]
     },
     "execution_count": 24,
     "metadata": {},
     "output_type": "execute_result"
    }
   ],
   "source": [
    "def get_model_size(models):\n",
    "    total_size = 0\n",
    "    ele_count = 0\n",
    "    for model in models:\n",
    "        param_size = 0\n",
    "        for param in model.parameters():\n",
    "            param_size += param.nelement() * param.element_size()\n",
    "        buffer_size = 0\n",
    "        for buffer in model.buffers():\n",
    "            buffer_size += buffer.nelement() * buffer.element_size()\n",
    "            ele_count+=1\n",
    "\n",
    "        model_size_mb = (param_size + buffer_size) / 1024**2\n",
    "        total_size += model_size_mb\n",
    "    return total_size\n",
    "print(\"Transformer Size:\")\n",
    "print(get_model_size([pipe.transformer]))\n",
    "print(\"Pipeline Size:\")\n",
    "get_model_size([pipe.transformer, pipe.vae.encoder, pipe.vae.decoder, pipe.text_encoder, pipe.text_encoder_2])"
   ]
  }
 ],
 "metadata": {
  "kernelspec": {
   "display_name": ".venv",
   "language": "python",
   "name": "python3"
  },
  "language_info": {
   "codemirror_mode": {
    "name": "ipython",
    "version": 3
   },
   "file_extension": ".py",
   "mimetype": "text/x-python",
   "name": "python",
   "nbconvert_exporter": "python",
   "pygments_lexer": "ipython3",
   "version": "3.10.12"
  }
 },
 "nbformat": 4,
 "nbformat_minor": 2
}
